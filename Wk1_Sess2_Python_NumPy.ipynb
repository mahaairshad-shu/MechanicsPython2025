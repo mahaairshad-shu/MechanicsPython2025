{
  "nbformat": 4,
  "nbformat_minor": 0,
  "metadata": {
    "colab": {
      "provenance": [],
      "include_colab_link": true
    },
    "kernelspec": {
      "name": "python3",
      "display_name": "Python 3"
    },
    "language_info": {
      "name": "python"
    }
  },
  "cells": [
    {
      "cell_type": "markdown",
      "metadata": {
        "id": "view-in-github",
        "colab_type": "text"
      },
      "source": [
        "<a href=\"https://colab.research.google.com/github/mahaairshad-shu/MechanicsPython2025/blob/main/Wk1_Sess2_Python_NumPy.ipynb\" target=\"_parent\"><img src=\"https://colab.research.google.com/assets/colab-badge.svg\" alt=\"Open In Colab\"/></a>"
      ]
    },
    {
      "cell_type": "markdown",
      "source": [
        "![SHU](https://drive.google.com/uc?export=view&id=1oauWClN3B2tjg1AeVHtfjAXZg13d9HXL)"
      ],
      "metadata": {
        "id": "ZT5kvXk0zqu9"
      }
    },
    {
      "cell_type": "markdown",
      "source": [
        "#**Modelling Mechanics of Sports Engineering**\n",
        "##Week 1\n",
        "###Session 2 - Introduction to Python"
      ],
      "metadata": {
        "id": "jPvJwRYrp8cm"
      }
    },
    {
      "cell_type": "markdown",
      "source": [
        "\n",
        "<a target=\"_blank\" href=\"https://github.com/mahaairshad-shu/MechanicsPython2025\">\n",
        "  <img alt=\"Link to GitHub\" src=\"https://img.shields.io/badge/link_to-GitHub_repo-blue?logo=github&labelColor=black\">\n",
        "\n",
        "</a><a target=\"_blank\" href=\"https://shuspace.shu.ac.uk/ultra/courses/_355862_1/outline\">\n",
        "  <img alt=\"Access course folder\" src=\"https://img.shields.io/badge/access_course_files-Folder-yellow\">\n",
        "</a>"
      ],
      "metadata": {
        "id": "ck3L8P9_oCUR"
      }
    },
    {
      "cell_type": "markdown",
      "source": [
        "#Python Language\n",
        "<div class=\"markdown-google-sans\">\n",
        "  <h2>About</h2>\n",
        "</div>\n",
        "\n",
        "* high-level and easy language.\n",
        "* is interpreted -> executed line by line, which allows programming to be interactive in a way that is not directly possible with compiled languages like Fortran, C, or Java.\n",
        "* is free.\n",
        "* large library of publicly available code.\n"
      ],
      "metadata": {
        "id": "n5LH7dT13BBy"
      }
    },
    {
      "cell_type": "markdown",
      "source": [
        "#Introduction\n",
        "This notebook gives an introduction to Python programming. We'll learn:\n",
        "\n",
        "* Variables and data types\n",
        "* Lists, indexing, append\n",
        "* Dictionaries\n",
        "* Numpy (arrays (ones, zeros, full, random), indexing, functions, concatenate)\n",
        "\n"
      ],
      "metadata": {
        "id": "E4uBN-Rn1Y8Z"
      }
    },
    {
      "cell_type": "markdown",
      "source": [
        "✅ **Note: Make sure the AI assistant is turned off**\n",
        "\n",
        "*Tools> Settings> AI assistance> Hide generative AI features*"
      ],
      "metadata": {
        "id": "ThgHInymFWSk"
      }
    },
    {
      "cell_type": "markdown",
      "source": [
        "##1. Variables and data types\n",
        "\n",
        "We briefly looked at the data types in python in the previous notebook. Below are some more examples."
      ],
      "metadata": {
        "id": "lbj1S6lzlr6q"
      }
    },
    {
      "cell_type": "code",
      "source": [
        "# Variables and Data Types\n",
        "\n",
        "# Variables are used to store data.  In Python, you don't need to explicitly declare a variable's data type.  Python infers the type based on the value assigned.\n",
        "\n",
        "# Integer\n",
        "age = 30\n",
        "print(type(age))\n",
        "\n",
        "# Float\n",
        "height = 1.75\n",
        "print(type(height))\n",
        "\n",
        "# String\n",
        "name = \"Alice\"\n",
        "print(type(name))\n",
        "\n",
        "# Boolean\n",
        "is_student = True\n",
        "print(type(is_student))\n",
        "\n",
        "#Run this cell to check if the data types are as expected. [Ctrl+Enter]"
      ],
      "metadata": {
        "colab": {
          "base_uri": "https://localhost:8080/"
        },
        "id": "FF0g4ZkElqxD",
        "outputId": "103974a4-b63c-4a8d-9728-a4a5e9f62efd"
      },
      "execution_count": null,
      "outputs": [
        {
          "output_type": "stream",
          "name": "stdout",
          "text": [
            "<class 'int'>\n",
            "<class 'float'>\n",
            "<class 'str'>\n",
            "<class 'bool'>\n"
          ]
        }
      ]
    },
    {
      "cell_type": "markdown",
      "source": [
        "You can also convert the data type of a variable"
      ],
      "metadata": {
        "id": "v2mkHx9onrJk"
      }
    },
    {
      "cell_type": "code",
      "source": [
        "# Type Conversion (Casting).\n",
        "# Some examples:\n",
        "\n",
        "# Convert an integer to a string\n",
        "age_str = str(age)\n",
        "print(age_str)\n",
        "print(type(age_str))"
      ],
      "metadata": {
        "colab": {
          "base_uri": "https://localhost:8080/"
        },
        "id": "Hm5bGaYinL1m",
        "outputId": "b0a283c1-6a94-433c-d585-47db31a342bc"
      },
      "execution_count": null,
      "outputs": [
        {
          "output_type": "stream",
          "name": "stdout",
          "text": [
            "30\n",
            "<class 'str'>\n"
          ]
        }
      ]
    },
    {
      "cell_type": "code",
      "source": [
        "# Convert a float to an integer\n",
        "height_int = int(height)\n",
        "print(height_int)\n",
        "print(type(height_int))"
      ],
      "metadata": {
        "colab": {
          "base_uri": "https://localhost:8080/"
        },
        "id": "HeGCxWG1otvO",
        "outputId": "375aeef9-ba70-41ea-9ed8-0a4f009c2957"
      },
      "execution_count": null,
      "outputs": [
        {
          "output_type": "stream",
          "name": "stdout",
          "text": [
            "1\n",
            "<class 'int'>\n"
          ]
        }
      ]
    },
    {
      "cell_type": "code",
      "source": [
        "# Convert a string to a float\n",
        "age_str = \"30\"\n",
        "age_float = float(age_str)\n",
        "print(age_float)\n",
        "print(type(age_float))"
      ],
      "metadata": {
        "colab": {
          "base_uri": "https://localhost:8080/"
        },
        "id": "xnccFAEhouoy",
        "outputId": "8f012a79-0661-4d18-eee9-a2a796ac03c3"
      },
      "execution_count": null,
      "outputs": [
        {
          "output_type": "stream",
          "name": "stdout",
          "text": [
            "30.0\n",
            "<class 'float'>\n"
          ]
        }
      ]
    },
    {
      "cell_type": "markdown",
      "source": [
        "❗Try changing the following string into an integer ❗"
      ],
      "metadata": {
        "id": "zJO0twm92ouE"
      }
    },
    {
      "cell_type": "code",
      "source": [
        "year = \"2024\"\n",
        "#year_int =              # uncomment and type code here\n",
        "#print(type(year_int))"
      ],
      "metadata": {
        "id": "7LM8TOGfpaOP"
      },
      "execution_count": null,
      "outputs": []
    },
    {
      "cell_type": "markdown",
      "source": [
        "Strings can be concatenated using +"
      ],
      "metadata": {
        "id": "-jdjS81XsQq7"
      }
    },
    {
      "cell_type": "code",
      "source": [
        "# String Concatenation\n",
        "userData = name + \" Smith, aged \" + str(age)  # Combine strings\n",
        "userData # Notice that Colab allows to print the contents of a variable by typing its name at the end of the cell"
      ],
      "metadata": {
        "colab": {
          "base_uri": "https://localhost:8080/",
          "height": 36
        },
        "id": "fFcTUzpsm4EG",
        "outputId": "e7ac70be-49a2-40e6-c8ce-d7045d47448d"
      },
      "execution_count": null,
      "outputs": [
        {
          "output_type": "execute_result",
          "data": {
            "text/plain": [
              "'Alice Smith, aged 30'"
            ],
            "application/vnd.google.colaboratory.intrinsic+json": {
              "type": "string"
            }
          },
          "metadata": {},
          "execution_count": 6
        }
      ]
    },
    {
      "cell_type": "markdown",
      "source": [
        "##2. Lists\n",
        "*Lists* are ordered collections of items. It is used to store multiple items in a a single variable."
      ],
      "metadata": {
        "id": "FqfTIrI5to9a"
      }
    },
    {
      "cell_type": "code",
      "source": [
        "# Lists\n",
        "\n",
        "# A list can contain elements of same or different data types.\n",
        "my_list = [1, 2, 3, \"apple\", True]\n",
        "my_list"
      ],
      "metadata": {
        "colab": {
          "base_uri": "https://localhost:8080/"
        },
        "id": "2xeUkbhzuD-o",
        "outputId": "1af7bef3-7741-44a6-9c40-bcc40aa4928b"
      },
      "execution_count": null,
      "outputs": [
        {
          "output_type": "execute_result",
          "data": {
            "text/plain": [
              "[1, 2, 3, 'apple', True]"
            ]
          },
          "metadata": {},
          "execution_count": 7
        }
      ]
    },
    {
      "cell_type": "code",
      "source": [
        "# Print length of list\n",
        "print(len(my_list))"
      ],
      "metadata": {
        "colab": {
          "base_uri": "https://localhost:8080/"
        },
        "id": "wNn6v5RZ8s97",
        "outputId": "3ac3106e-109e-4c20-ae0c-443f6c3a6153"
      },
      "execution_count": null,
      "outputs": [
        {
          "output_type": "stream",
          "name": "stdout",
          "text": [
            "5\n"
          ]
        }
      ]
    },
    {
      "cell_type": "code",
      "source": [
        "# Accessing elements (indexing)\n",
        "print(my_list[0])  # Python uses zero-based indexing. First element is indexed at 0\n",
        "print(my_list[-1]) # Negative indexing starts from the end\n",
        "print(my_list[2:4]) # Slicing. Start:End-1\n",
        "print(my_list[2:])"
      ],
      "metadata": {
        "colab": {
          "base_uri": "https://localhost:8080/"
        },
        "id": "JFzxJgCGvNuB",
        "outputId": "1ef958e5-e3c5-4ba5-8304-7c535bbcafa7"
      },
      "execution_count": null,
      "outputs": [
        {
          "output_type": "stream",
          "name": "stdout",
          "text": [
            "1\n",
            "True\n",
            "[3, 'apple']\n",
            "[3, 'apple', True]\n"
          ]
        }
      ]
    },
    {
      "cell_type": "code",
      "source": [
        "# Modifying lists\n",
        "my_list.append(4) # Adds an element to the end\n",
        "print(my_list)"
      ],
      "metadata": {
        "colab": {
          "base_uri": "https://localhost:8080/"
        },
        "id": "oSSpg_ctvxwL",
        "outputId": "fc86ae74-4bc6-4f10-9eb1-3fc65522973c"
      },
      "execution_count": null,
      "outputs": [
        {
          "output_type": "stream",
          "name": "stdout",
          "text": [
            "[1, 2, 3, 'apple', True, 4]\n"
          ]
        }
      ]
    },
    {
      "cell_type": "code",
      "source": [
        "my_list[2] = \"banana\"  # Replace an element\n",
        "print(my_list)"
      ],
      "metadata": {
        "colab": {
          "base_uri": "https://localhost:8080/"
        },
        "id": "87rP8l8Tv1AX",
        "outputId": "c7eda3e3-55de-444f-9076-ccf945a2673c"
      },
      "execution_count": null,
      "outputs": [
        {
          "output_type": "stream",
          "name": "stdout",
          "text": [
            "[1, 2, 'banana', 'apple', True, 4]\n"
          ]
        }
      ]
    },
    {
      "cell_type": "markdown",
      "source": [
        "❗1. Replace the number 1 with 3 and add 'orange' to *my_list* ❗\n",
        "\n",
        "❗2. Create a *sub_list*   to contain ['banana', 'apple', True] by slicing out the items *my_list* ❗"
      ],
      "metadata": {
        "id": "YAlhnXwk4vrv"
      }
    },
    {
      "cell_type": "code",
      "source": [
        "# type code here"
      ],
      "metadata": {
        "id": "Zgir6VkA4wdV"
      },
      "execution_count": null,
      "outputs": []
    },
    {
      "cell_type": "markdown",
      "source": [
        "## 3. Dictionaries\n",
        "\n",
        "Another useful data type is *dictionaries*. Unlike sequences, which are indexed by a range of numbers, dictionaries are indexed by keys, which can be any immutable type; strings and numbers can always be keys."
      ],
      "metadata": {
        "id": "s8wwiw345eQi"
      }
    },
    {
      "cell_type": "code",
      "source": [
        "# Dictionaries\n",
        "\n",
        "# Dictionaries store data in key-value pairs. Keys must be unique and immutable (e.g., strings, numbers).\n",
        "# items always added as key:value pairs\n",
        "my_dict = {\"name\": \"Bob\", \"age\": 25, \"city\": \"New York\"}\n",
        "my_dict"
      ],
      "metadata": {
        "colab": {
          "base_uri": "https://localhost:8080/"
        },
        "id": "Wd4jjEpsEVNM",
        "outputId": "d371217a-c02f-4c64-e3bc-081403fc6753"
      },
      "execution_count": null,
      "outputs": [
        {
          "output_type": "execute_result",
          "data": {
            "text/plain": [
              "{'name': 'Bob', 'age': 25, 'city': 'New York'}"
            ]
          },
          "metadata": {},
          "execution_count": 13
        }
      ]
    },
    {
      "cell_type": "code",
      "source": [
        "# alternate way to create and add to dictionary\n",
        "# useful when the items have to be added later in the code\n",
        "new_dict = {}               # create an empty dictionary\n",
        "new_dict[\"name\"] = \"Bob\"    # add\n",
        "new_dict[\"age\"] = 25\n",
        "new_dict[\"city\"] = \"New York\"\n",
        "new_dict"
      ],
      "metadata": {
        "colab": {
          "base_uri": "https://localhost:8080/"
        },
        "id": "GGfBP7UlEXpU",
        "outputId": "3fa55cb1-4395-47b7-a213-f4ae5f335631"
      },
      "execution_count": null,
      "outputs": [
        {
          "output_type": "execute_result",
          "data": {
            "text/plain": [
              "{'name': 'Bob', 'age': 25, 'city': 'New York'}"
            ]
          },
          "metadata": {},
          "execution_count": 14
        }
      ]
    },
    {
      "cell_type": "code",
      "source": [
        "# Accessing values using keys\n",
        "print(my_dict[\"name\"])\n",
        "print(my_dict.get(\"age\"))"
      ],
      "metadata": {
        "colab": {
          "base_uri": "https://localhost:8080/"
        },
        "id": "j8g_f4gnGrvi",
        "outputId": "25211baa-6a5c-4402-c604-1547c10de870"
      },
      "execution_count": null,
      "outputs": [
        {
          "output_type": "stream",
          "name": "stdout",
          "text": [
            "Bob\n",
            "25\n"
          ]
        }
      ]
    },
    {
      "cell_type": "code",
      "source": [
        "# Adding or modifying key-value pairs\n",
        "my_dict[\"occupation\"] = \"Engineer\" # Adds a new key-value pair\n",
        "print(my_dict)"
      ],
      "metadata": {
        "colab": {
          "base_uri": "https://localhost:8080/"
        },
        "id": "dGD8IEv1HBq4",
        "outputId": "c57a51de-444a-4350-a6ed-8d13c9a823ad"
      },
      "execution_count": null,
      "outputs": [
        {
          "output_type": "stream",
          "name": "stdout",
          "text": [
            "{'name': 'Bob', 'age': 25, 'city': 'New York', 'occupation': 'Engineer'}\n"
          ]
        }
      ]
    },
    {
      "cell_type": "code",
      "source": [
        "# Iterating through a Dictionary\n",
        "for key, value in my_dict.items():\n",
        "    print(f\"Key: {key}, Value: {value}\")"
      ],
      "metadata": {
        "colab": {
          "base_uri": "https://localhost:8080/"
        },
        "id": "E5HALUpOYu_4",
        "outputId": "ec0b206c-2f01-4e9b-8b97-e853e76a07d4"
      },
      "execution_count": null,
      "outputs": [
        {
          "output_type": "stream",
          "name": "stdout",
          "text": [
            "Key: name, Value: Bob\n",
            "Key: age, Value: 25\n",
            "Key: city, Value: New York\n",
            "Key: occupation, Value: Engineer\n"
          ]
        }
      ]
    },
    {
      "cell_type": "code",
      "source": [
        "#Checking for keys:\n",
        "if \"city\" in my_dict:\n",
        "    print(\"The key 'city' exists in my_dict\")"
      ],
      "metadata": {
        "colab": {
          "base_uri": "https://localhost:8080/"
        },
        "id": "zrN7aoApHteQ",
        "outputId": "e8b5f5c9-1dd8-40e4-c641-aea1711feba4"
      },
      "execution_count": null,
      "outputs": [
        {
          "output_type": "stream",
          "name": "stdout",
          "text": [
            "The key 'city' exists in my_dict\n"
          ]
        }
      ]
    },
    {
      "cell_type": "code",
      "source": [
        "#Removing a key-value pair\n",
        "del my_dict[\"city\"]\n",
        "print(\"Dictionary after deleting the 'city' key-value pair:\", my_dict)"
      ],
      "metadata": {
        "colab": {
          "base_uri": "https://localhost:8080/"
        },
        "id": "OHS7gYSzHvEG",
        "outputId": "7aad7847-4230-485d-a40a-726f705ed682"
      },
      "execution_count": null,
      "outputs": [
        {
          "output_type": "stream",
          "name": "stdout",
          "text": [
            "Dictionary after deleting the 'city' key-value pair: {'name': 'Bob', 'age': 25, 'occupation': 'Engineer'}\n"
          ]
        }
      ]
    },
    {
      "cell_type": "markdown",
      "source": [
        "In the dictionary *my_dict*,\n",
        "\n",
        "❗1. change Bob's age to 27❗\n",
        "\n",
        "❗2. add Bob's gender ❗"
      ],
      "metadata": {
        "id": "NiZ8PezDH4SR"
      }
    },
    {
      "cell_type": "code",
      "source": [
        "# type code here"
      ],
      "metadata": {
        "id": "NRxNxAkhH5C1"
      },
      "execution_count": null,
      "outputs": []
    },
    {
      "cell_type": "markdown",
      "source": [
        "## 4. NumPy\n",
        "\n",
        "So far we have used the built-in functionalities and data types in Python.\n",
        "In this section, we explore a very popular library, NumPy (Numerical Python), widely used for working with arrays.\n",
        "\n",
        "* has functions for working in domain of linear algebra, fourier transform, statistics and matrices.\n",
        "* array object much more suitable for numerical data, instead of lists.\n",
        "* can handle large data sets efficiently, with much lower momory footprint.\n",
        "* allows vectorization! > operations are applied to all elements in an array without the need for explicit loops compared to lists > hence faster."
      ],
      "metadata": {
        "id": "J_a-354-H5eL"
      }
    },
    {
      "cell_type": "code",
      "source": [
        "import numpy as np  # the library comes pre-installed in Colab environment,\n",
        "                    # but needs to imported at the top of your code"
      ],
      "metadata": {
        "id": "w95O7a43P4qm"
      },
      "execution_count": null,
      "outputs": []
    },
    {
      "cell_type": "code",
      "source": [
        "# A simple 1D NumPy array\n",
        "my_array = np.array([1, 2, 3, 4, 5])\n",
        "my_array"
      ],
      "metadata": {
        "colab": {
          "base_uri": "https://localhost:8080/"
        },
        "id": "FDsxepgiQXlL",
        "outputId": "af6fa8d0-8b80-4a4f-a02f-04f0d96aab83"
      },
      "execution_count": null,
      "outputs": [
        {
          "output_type": "execute_result",
          "data": {
            "text/plain": [
              "array([1, 2, 3, 4, 5])"
            ]
          },
          "metadata": {},
          "execution_count": 22
        }
      ]
    },
    {
      "cell_type": "markdown",
      "source": [
        "notice how *my_array* is different from *my_list*"
      ],
      "metadata": {
        "id": "1ltaDvx_Ql3O"
      }
    },
    {
      "cell_type": "code",
      "source": [
        "my_list"
      ],
      "metadata": {
        "colab": {
          "base_uri": "https://localhost:8080/"
        },
        "id": "VsWxcvDhQ2ac",
        "outputId": "8e6c213c-f4c5-4894-ec54-95660302e432"
      },
      "execution_count": null,
      "outputs": [
        {
          "output_type": "execute_result",
          "data": {
            "text/plain": [
              "[1, 2, 'banana', 'apple', True, 4]"
            ]
          },
          "metadata": {},
          "execution_count": 23
        }
      ]
    },
    {
      "cell_type": "markdown",
      "source": [
        "####Initializing an array"
      ],
      "metadata": {
        "id": "P-EdjKrbcFYB"
      }
    },
    {
      "cell_type": "code",
      "source": [
        "# Creating NumPy arrays\n",
        "arr_ones = np.ones((2, 3))  # Create a 2x3 array filled with ones\n",
        "arr_zeros = np.zeros((3, 2)) # Create a 3x2 array filled with zeros\n",
        "arr_full = np.full((2, 2), 7) # Create a 2x2 array filled with the value 7\n",
        "arr_random = np.random.rand(2, 2)  # Create a 2x2 array of random numbers between 0 and 1\n",
        "\n",
        "print(\"Ones array:\\n\", arr_ones)\n",
        "print(\"\\nZeros array:\\n\", arr_zeros)\n",
        "print(\"\\nFull array:\\n\", arr_full)\n",
        "print(\"\\nRandom array:\\n\", arr_random)"
      ],
      "metadata": {
        "colab": {
          "base_uri": "https://localhost:8080/"
        },
        "id": "08SkPhlCP3GD",
        "outputId": "f80a20db-1d64-42fa-bbd0-977e1a5a36ed"
      },
      "execution_count": null,
      "outputs": [
        {
          "output_type": "stream",
          "name": "stdout",
          "text": [
            "Ones array:\n",
            " [[1. 1. 1.]\n",
            " [1. 1. 1.]]\n",
            "\n",
            "Zeros array:\n",
            " [[0. 0.]\n",
            " [0. 0.]\n",
            " [0. 0.]]\n",
            "\n",
            "Full array:\n",
            " [[7 7]\n",
            " [7 7]]\n",
            "\n",
            "Random array:\n",
            " [[0.10320917 0.94837275]\n",
            " [0.1017807  0.59800486]]\n"
          ]
        }
      ]
    },
    {
      "cell_type": "code",
      "source": [
        "# Print shape of an array\n",
        "print(\"Shape of arr_random:\", arr_random.shape)"
      ],
      "metadata": {
        "colab": {
          "base_uri": "https://localhost:8080/"
        },
        "id": "c7tsQtpJTo1j",
        "outputId": "1e8b2c31-faf5-46cd-e449-e342296e5913"
      },
      "execution_count": null,
      "outputs": [
        {
          "output_type": "stream",
          "name": "stdout",
          "text": [
            "Shape of arr_random: (2, 2)\n"
          ]
        }
      ]
    },
    {
      "cell_type": "code",
      "source": [
        "# Create an empty numpy array\n",
        "empty_array = np.array([])\n",
        "\n",
        "# Add items to the array\n",
        "empty_array = np.append(empty_array, [1, 2, 3])\n",
        "empty_array = np.append(empty_array, 4)  # You can append single elements too\n",
        "\n",
        "empty_array"
      ],
      "metadata": {
        "colab": {
          "base_uri": "https://localhost:8080/"
        },
        "id": "TK68W9jNQ63w",
        "outputId": "c6f42f4f-d072-444d-f296-c80008016228"
      },
      "execution_count": null,
      "outputs": [
        {
          "output_type": "execute_result",
          "data": {
            "text/plain": [
              "array([1., 2., 3., 4.])"
            ]
          },
          "metadata": {},
          "execution_count": 26
        }
      ]
    },
    {
      "cell_type": "code",
      "source": [
        "# np.linspace creates an array with evenly spaced numbers over a specified interval\n",
        "# np.linspace(start, stop, num=50, endpoint=True, retstep=False, dtype=None, axis=0)\n",
        "# start: The starting value of the sequence.\n",
        "# stop: The end value of the sequence.\n",
        "# num: Number of samples to generate. Default is 50.\n",
        "# endpoint: If True, stop is the last sample. Otherwise, it is not included. Default is True.\n",
        "\n",
        "linspace_array = np.linspace(0, 10, 5)  # Create an array of 5 numbers from 0 to 10 (inclusive)\n",
        "print(\"linspace_array:\", linspace_array)\n",
        "\n",
        "linspace_array_exclusive = np.linspace(0, 10, 5, endpoint=False) # Create an array of 5 numbers from 0 to 10 (exclusive)\n",
        "print(\"linspace_array_exclusive:\", linspace_array_exclusive)"
      ],
      "metadata": {
        "colab": {
          "base_uri": "https://localhost:8080/"
        },
        "id": "ThaYSQGKbiJ6",
        "outputId": "6e8dafbb-047d-410c-bf20-e4ed9580a264"
      },
      "execution_count": null,
      "outputs": [
        {
          "output_type": "stream",
          "name": "stdout",
          "text": [
            "linspace_array: [ 0.   2.5  5.   7.5 10. ]\n",
            "linspace_array_exclusive: [0. 2. 4. 6. 8.]\n"
          ]
        }
      ]
    },
    {
      "cell_type": "code",
      "source": [
        "# np.arange creates an array with evenly spaced values within a given interval\n",
        "# np.arange([start,] stop[, step,], dtype=None)\n",
        "# start: The starting value of the sequence.\n",
        "# stop: The end value of the sequence (exclusive).\n",
        "# step: Spacing between values. Default is 1.\n",
        "\n",
        "arange_array = np.arange(0, 10, 2)  # Create an array with numbers from 0 to 10 (exclusive), with a step of 2\n",
        "print(\"arange_array:\", arange_array)\n",
        "\n",
        "arange_array_default_step = np.arange(0,5) # creates an array from 0 to 4\n",
        "print(\"arange_array_default_step:\", arange_array_default_step)"
      ],
      "metadata": {
        "colab": {
          "base_uri": "https://localhost:8080/"
        },
        "id": "vfn2dndHbyOj",
        "outputId": "624d3b58-bf0f-4828-c3a1-d1ca35c090cc"
      },
      "execution_count": null,
      "outputs": [
        {
          "output_type": "stream",
          "name": "stdout",
          "text": [
            "arange_array: [0 2 4 6 8]\n",
            "arange_array_default_step: [0 1 2 3 4]\n"
          ]
        }
      ]
    },
    {
      "cell_type": "markdown",
      "source": [
        "####Indexing"
      ],
      "metadata": {
        "id": "H821dpRGcOmt"
      }
    },
    {
      "cell_type": "code",
      "source": [
        "# Array indexing\n",
        "print(\"\\nElement at index (0, 1):\", arr_random[0, 1])\n",
        "print(\"\\nFirst row:\", arr_random[0, :])\n",
        "print(\"\\nSecond column:\", arr_random[:, 1])"
      ],
      "metadata": {
        "colab": {
          "base_uri": "https://localhost:8080/"
        },
        "id": "fuqEw2c4RjPF",
        "outputId": "cf93c6d7-27fd-4c00-dac0-63fc8fccc155"
      },
      "execution_count": null,
      "outputs": [
        {
          "output_type": "stream",
          "name": "stdout",
          "text": [
            "\n",
            "Element at index (0, 1): 0.9483727515494283\n",
            "\n",
            "First row: [0.10320917 0.94837275]\n",
            "\n",
            "Second column: [0.94837275 0.59800486]\n"
          ]
        }
      ]
    },
    {
      "cell_type": "markdown",
      "source": [
        "####Array operations"
      ],
      "metadata": {
        "id": "B4OzspyscUUS"
      }
    },
    {
      "cell_type": "code",
      "source": [
        "# Concatenate arrays along different axes\n",
        "arr1 = np.array([[1, 2], [3, 4]])\n",
        "arr2 = np.array([[5, 6], [7, 8]])\n",
        "\n",
        "# Concatenate along the first axis (rows)\n",
        "concatenated_rows = np.concatenate((arr1, arr2), axis=0)\n",
        "print(\"Concatenated along rows:\\n\", concatenated_rows)\n",
        "\n",
        "# Concatenate along the second axis (columns)\n",
        "concatenated_cols = np.concatenate((arr1, arr2), axis=1)\n",
        "print(\"\\nConcatenated along columns:\\n\", concatenated_cols)\n",
        "\n",
        "# Using hstack and vstack for horizontal and vertical stacking\n",
        "horizontal_stack = np.hstack((arr1, arr2))\n",
        "print(\"\\nHorizontal stack:\\n\", horizontal_stack)\n",
        "\n",
        "vertical_stack = np.vstack((arr1, arr2))\n",
        "print(\"\\nVertical stack:\\n\", vertical_stack)"
      ],
      "metadata": {
        "colab": {
          "base_uri": "https://localhost:8080/"
        },
        "id": "c28Q5sGGRp4Q",
        "outputId": "3c420dc0-5e33-45b6-a945-bc78567b55d4"
      },
      "execution_count": null,
      "outputs": [
        {
          "output_type": "stream",
          "name": "stdout",
          "text": [
            "Concatenated along rows:\n",
            " [[1 2]\n",
            " [3 4]\n",
            " [5 6]\n",
            " [7 8]]\n",
            "\n",
            "Concatenated along columns:\n",
            " [[1 2 5 6]\n",
            " [3 4 7 8]]\n",
            "\n",
            "Horizontal stack:\n",
            " [[1 2 5 6]\n",
            " [3 4 7 8]]\n",
            "\n",
            "Vertical stack:\n",
            " [[1 2]\n",
            " [3 4]\n",
            " [5 6]\n",
            " [7 8]]\n"
          ]
        }
      ]
    },
    {
      "cell_type": "code",
      "source": [
        "# Reshape arrays\n",
        "arr = np.array([1, 2, 3, 4, 5, 6])\n",
        "reshaped_arr = arr.reshape(2, 3)\n",
        "print(\"Reshaped array:\\n\", reshaped_arr)"
      ],
      "metadata": {
        "colab": {
          "base_uri": "https://localhost:8080/"
        },
        "id": "zNNSViQfU4NY",
        "outputId": "503e4d8c-8bfe-4092-e9f8-9a0916268927"
      },
      "execution_count": null,
      "outputs": [
        {
          "output_type": "stream",
          "name": "stdout",
          "text": [
            "Reshaped array:\n",
            " [[1 2 3]\n",
            " [4 5 6]]\n"
          ]
        }
      ]
    },
    {
      "cell_type": "code",
      "source": [
        "# Concatenating arrays with different shapes\n",
        "arr3 = np.array([9, 10])\n",
        "np.shape(arr3)\n",
        "#Cannot concatenate arrays with mismatched shapes along axis=0\n",
        "#print(\"\\nConcatenated rows with different shapes:\\n\", np.concatenate((arr1, arr3), axis=0)) # This will raise an error."
      ],
      "metadata": {
        "colab": {
          "base_uri": "https://localhost:8080/"
        },
        "id": "KGreiMo2TiQz",
        "outputId": "6aeafd73-b9bc-4217-c85a-15e539d442f1"
      },
      "execution_count": null,
      "outputs": [
        {
          "output_type": "execute_result",
          "data": {
            "text/plain": [
              "(2,)"
            ]
          },
          "metadata": {},
          "execution_count": 32
        }
      ]
    },
    {
      "cell_type": "code",
      "source": [
        "# Need to reshape arr3 for concatenation along axis=0\n",
        "arr3_reshaped = arr3.reshape(1,2)\n",
        "print(\"\\nConcatenated rows with arr3 reshaped:\\n\", np.concatenate((arr1, arr3_reshaped), axis=0))"
      ],
      "metadata": {
        "colab": {
          "base_uri": "https://localhost:8080/"
        },
        "id": "qnmkIqhDT6uP",
        "outputId": "f02b6d8b-c3c8-463f-d38c-3631f53a9abe"
      },
      "execution_count": null,
      "outputs": [
        {
          "output_type": "stream",
          "name": "stdout",
          "text": [
            "\n",
            "Concatenated rows with arr3 reshaped:\n",
            " [[ 1  2]\n",
            " [ 3  4]\n",
            " [ 9 10]]\n"
          ]
        }
      ]
    },
    {
      "cell_type": "markdown",
      "source": [
        "####Vectorization - allows element-wise operations"
      ],
      "metadata": {
        "id": "k985_LHMVGmW"
      }
    },
    {
      "cell_type": "code",
      "source": [
        "print(\"arr1:\\n\", arr1)\n",
        "print(\"\\narr2:\\n\", arr2)"
      ],
      "metadata": {
        "colab": {
          "base_uri": "https://localhost:8080/"
        },
        "id": "ahen-s45V7-q",
        "outputId": "c5a6c204-44f0-43eb-9937-642f763dcc75"
      },
      "execution_count": null,
      "outputs": [
        {
          "output_type": "stream",
          "name": "stdout",
          "text": [
            "arr1:\n",
            " [[1 2]\n",
            " [3 4]]\n",
            "\n",
            "arr2:\n",
            " [[5 6]\n",
            " [7 8]]\n"
          ]
        }
      ]
    },
    {
      "cell_type": "code",
      "source": [
        "# Add the two arrays element-wise\n",
        "result_add = arr1 + arr2\n",
        "print(\"Element-wise addition:\\n\", result_add)"
      ],
      "metadata": {
        "colab": {
          "base_uri": "https://localhost:8080/"
        },
        "id": "DsvrlBm4Vzlq",
        "outputId": "376136d2-d10c-4453-d7fb-66f0c2a3fb7f"
      },
      "execution_count": null,
      "outputs": [
        {
          "output_type": "stream",
          "name": "stdout",
          "text": [
            "Element-wise addition:\n",
            " [[ 6  8]\n",
            " [10 12]]\n"
          ]
        }
      ]
    },
    {
      "cell_type": "code",
      "source": [
        "# Multiply the two arrays element-wise\n",
        "result_mul = arr1 * arr2\n",
        "print(\"Element-wise multiplication:\\n\", result_mul)"
      ],
      "metadata": {
        "colab": {
          "base_uri": "https://localhost:8080/"
        },
        "id": "zW6o-ntVWErM",
        "outputId": "8a5c428c-09f0-4042-f259-9b6b84fd3c75"
      },
      "execution_count": null,
      "outputs": [
        {
          "output_type": "stream",
          "name": "stdout",
          "text": [
            "Element-wise multiplication:\n",
            " [[ 5 12]\n",
            " [21 32]]\n"
          ]
        }
      ]
    },
    {
      "cell_type": "code",
      "source": [
        "# Dot product/ Matrix multiplication of two arrays\n",
        "dot_product = np.dot(arr1, arr2)\n",
        "print(\"Dot product:\\n\", dot_product)"
      ],
      "metadata": {
        "colab": {
          "base_uri": "https://localhost:8080/"
        },
        "id": "Gki08XUlWf9Q",
        "outputId": "046b75f0-589a-4357-86e3-9a822f71366d"
      },
      "execution_count": null,
      "outputs": [
        {
          "output_type": "stream",
          "name": "stdout",
          "text": [
            "Dot product:\n",
            " [[19 22]\n",
            " [43 50]]\n"
          ]
        }
      ]
    },
    {
      "cell_type": "code",
      "source": [
        "# Vectorized comparison\n",
        "print(arr)\n",
        "\n",
        "# Find elements greater than 3\n",
        "result_comparison = arr > 3\n",
        "print(\"Elements greater than 3:\", result_comparison)"
      ],
      "metadata": {
        "colab": {
          "base_uri": "https://localhost:8080/"
        },
        "id": "g2-hfge3ZEsX",
        "outputId": "b5f56063-1080-4883-cb14-72175bd3103d"
      },
      "execution_count": null,
      "outputs": [
        {
          "output_type": "stream",
          "name": "stdout",
          "text": [
            "[1 2 3 4 5 6]\n",
            "Elements greater than 3: [False False False  True  True  True]\n"
          ]
        }
      ]
    },
    {
      "cell_type": "code",
      "source": [
        "# Broadcasting\n",
        "print(\"arr1:\\n\", arr1)\n",
        "scalar = 2\n",
        "\n",
        "# Multiply each element of arr6 by the scalar 2 using broadcasting\n",
        "result_broadcasting = arr1 * scalar\n",
        "print(\"\\nBroadcasting Example:\\n\", result_broadcasting)"
      ],
      "metadata": {
        "colab": {
          "base_uri": "https://localhost:8080/"
        },
        "id": "8ebqB9jZZVgg",
        "outputId": "061df9de-3679-4ae4-9db3-7cc41004528e"
      },
      "execution_count": null,
      "outputs": [
        {
          "output_type": "stream",
          "name": "stdout",
          "text": [
            "arr1:\n",
            " [[1 2]\n",
            " [3 4]]\n",
            "\n",
            "Broadcasting Example:\n",
            " [[2 4]\n",
            " [6 8]]\n"
          ]
        }
      ]
    },
    {
      "cell_type": "code",
      "source": [
        "# Calculate the square of each element in arr1\n",
        "result_square = np.square(arr1)\n",
        "print(\"Square of each element:\\n\", result_square)"
      ],
      "metadata": {
        "colab": {
          "base_uri": "https://localhost:8080/"
        },
        "id": "hekrUMKQWWC3",
        "outputId": "ce0b593a-6d43-4d8e-db59-a077b4f55f9a"
      },
      "execution_count": null,
      "outputs": [
        {
          "output_type": "stream",
          "name": "stdout",
          "text": [
            "Square of each element:\n",
            " [[ 1  4]\n",
            " [ 9 16]]\n"
          ]
        }
      ]
    },
    {
      "cell_type": "markdown",
      "source": [
        "####Array functions"
      ],
      "metadata": {
        "id": "8RQKA2gEakj4"
      }
    },
    {
      "cell_type": "code",
      "source": [
        "print('arr1:\\n', arr1)"
      ],
      "metadata": {
        "colab": {
          "base_uri": "https://localhost:8080/"
        },
        "id": "4sQ67XIHbDpP",
        "outputId": "f9e494c8-0c9d-4da9-902a-110b19b36b77"
      },
      "execution_count": null,
      "outputs": [
        {
          "output_type": "stream",
          "name": "stdout",
          "text": [
            "arr1:\n",
            " [[1 2]\n",
            " [3 4]]\n"
          ]
        }
      ]
    },
    {
      "cell_type": "code",
      "source": [
        "# Calculate the sum of all elements in arr1\n",
        "sum_of_elements = np.sum(arr1)\n",
        "print(\"Sum of elements:\", sum_of_elements)\n",
        "\n",
        "# Calculate the mean of all elements in arr1\n",
        "mean_of_elements = np.mean(arr1)\n",
        "print(\"Mean of elements:\", mean_of_elements)\n",
        "\n",
        "# Calculate the standard deviation of all elements in arr1\n",
        "std_dev = np.std(arr1)\n",
        "print(\"Standard deviation:\", std_dev)\n",
        "\n",
        "# Calculate the maximum value in arr1\n",
        "max_value = np.max(arr1)\n",
        "print(\"Maximum value:\", max_value)\n",
        "\n",
        "# Calculate the minimum value in arr1\n",
        "min_value = np.min(arr1)\n",
        "print(\"Minimum value:\", min_value)\n",
        "\n",
        "# Find the index of the maximum value in arr1\n",
        "max_index = np.argmax(arr1)\n",
        "print(\"Index of the maximum value:\", max_index)\n",
        "\n",
        "# Find the index of the minimum value in arr1\n",
        "min_index = np.argmin(arr1)\n",
        "print(\"Index of the minimum value:\", min_index)\n",
        "\n",
        "# Shuffle arr\n",
        "arr4 = np.array([1, 2, 3, 4, 5, 6])\n",
        "np.random.shuffle(arr4)\n",
        "print(\"Shuffled array:\", arr4)\n",
        "\n",
        "# Find the sorted indexes from arr\n",
        "sorted_indexes = np.argsort(arr4)\n",
        "print(\"Sorted indexes:\", sorted_indexes)\n",
        "print(\"Sorted values:\", arr4[sorted_indexes])\n",
        "\n",
        "# Calc sin, cos and tan & inverse\n",
        "angle_degrees = 45\n",
        "angle_radians = np.radians(angle_degrees)\n",
        "sin_val = np.sin(angle_radians)\n",
        "cos_val = np.cos(angle_radians)\n",
        "tan_val = np.tan(angle_radians)\n",
        "arcsin_val = np.degrees(np.arcsin(sin_val))\n",
        "arccos_val = np.degrees(np.arccos(cos_val))\n",
        "arctan_val = np.degrees(np.arctan(tan_val))\n",
        "results = {\n",
        "      \"sin\": sin_val,\n",
        "      \"cos\": cos_val,\n",
        "      \"tan\": tan_val,\n",
        "      \"arcsin\": arcsin_val,\n",
        "      \"arccos\": arccos_val,\n",
        "      \"arctan\": arctan_val\n",
        "  }\n",
        "print(results)"
      ],
      "metadata": {
        "colab": {
          "base_uri": "https://localhost:8080/"
        },
        "id": "X4hAee9Yav7B",
        "outputId": "33634a5c-0711-4dcf-c6cb-771af0ae445f"
      },
      "execution_count": null,
      "outputs": [
        {
          "output_type": "stream",
          "name": "stdout",
          "text": [
            "Sum of elements: 10\n",
            "Mean of elements: 2.5\n",
            "Standard deviation: 1.118033988749895\n",
            "Maximum value: 4\n",
            "Minimum value: 1\n",
            "Index of the maximum value: 1\n",
            "Index of the minimum value: 2\n",
            "Shuffled array: [1 2 5 3 6 4]\n",
            "Sorted indexes: [0 1 3 5 2 4]\n",
            "Sorted values: [1 2 3 4 5 6]\n",
            "{'sin': 0.7071067811865475, 'cos': 0.7071067811865476, 'tan': 0.9999999999999999, 'arcsin': 44.99999999999999, 'arccos': 45.0, 'arctan': 45.0}\n"
          ]
        }
      ]
    }
  ]
}
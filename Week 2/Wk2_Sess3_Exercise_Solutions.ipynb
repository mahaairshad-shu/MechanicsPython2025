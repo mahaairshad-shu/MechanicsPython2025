{
  "nbformat": 4,
  "nbformat_minor": 0,
  "metadata": {
    "colab": {
      "provenance": [],
      "include_colab_link": true
    },
    "kernelspec": {
      "name": "python3",
      "display_name": "Python 3"
    },
    "language_info": {
      "name": "python"
    }
  },
  "cells": [
    {
      "cell_type": "markdown",
      "metadata": {
        "id": "view-in-github",
        "colab_type": "text"
      },
      "source": [
        "<a href=\"https://colab.research.google.com/github/mahaairshad-shu/MechanicsPython2025/blob/main/Week%202/Wk2_Sess3_Exercise_Solutions.ipynb\" target=\"_parent\"><img src=\"https://colab.research.google.com/assets/colab-badge.svg\" alt=\"Open In Colab\"/></a>"
      ]
    },
    {
      "cell_type": "markdown",
      "source": [
        "![SHU](https://drive.google.com/uc?export=view&id=1oauWClN3B2tjg1AeVHtfjAXZg13d9HXL)"
      ],
      "metadata": {
        "id": "ZT5kvXk0zqu9"
      }
    },
    {
      "cell_type": "markdown",
      "source": [
        "#**Modelling Mechanics of Sports Engineering**\n",
        "##Week 2\n",
        "###Session 3 - Practice tasks solutions"
      ],
      "metadata": {
        "id": "jPvJwRYrp8cm"
      }
    },
    {
      "cell_type": "markdown",
      "source": [
        "\n",
        "<a target=\"_blank\" href=\"https://github.com/DrJohnKelley/MechanicsPython\">\n",
        "  <img alt=\"Link to GitHub\" src=\"https://img.shields.io/badge/link_to-GitHub_repo-blue?logo=github&labelColor=black\">\n",
        "\n",
        "</a><a target=\"_blank\" href=\"https://shuspace.shu.ac.uk/ultra/courses/_350614_1/outline\">\n",
        "  <img alt=\"Access course folder\" src=\"https://img.shields.io/badge/access_course_files-Folder-yellow\">\n",
        "</a>"
      ],
      "metadata": {
        "id": "ck3L8P9_oCUR"
      }
    },
    {
      "cell_type": "markdown",
      "source": [
        "#Introduction\n",
        "This notebook contains solutions for the practice tasks and exercises\n",
        "\n"
      ],
      "metadata": {
        "id": "E4uBN-Rn1Y8Z"
      }
    },
    {
      "cell_type": "markdown",
      "source": [
        "###Exercise: 1\n",
        "Create a function that tests whether a number is an integer and prints the findings.\n"
      ],
      "metadata": {
        "id": "eleUsb15tSAY"
      }
    },
    {
      "cell_type": "code",
      "source": [
        "# Exercise 1\n",
        "# Write your code here\n",
        "\n",
        "def checkInt(x):\n",
        "  \"\"\"\n",
        "    Checks if the input is an integer.\n",
        "\n",
        "    Parameters\n",
        "    ----------\n",
        "    x : int or float or str\n",
        "        The input to check.\n",
        "\n",
        "    Returns\n",
        "    -------\n",
        "    str\n",
        "        A string indicating whether the input is an integer or not.\n",
        "\n",
        "    \"\"\"\n",
        "  if type(x) == int:\n",
        "    print(f'{x} is an integer')\n",
        "  else:\n",
        "    print(f'{x} is not an integer')\n",
        "\n",
        "checkInt(5)\n",
        "checkInt(5.0) #to think about - why is 5.0 not an integer? is this the behaviour we want? we could change the code to be if round(x) == x\n",
        "checkInt('5')"
      ],
      "metadata": {
        "id": "rA8FlpkwvCh-",
        "colab": {
          "base_uri": "https://localhost:8080/"
        },
        "outputId": "ad57c8f7-da13-4429-a4f5-724369526efe"
      },
      "execution_count": null,
      "outputs": [
        {
          "output_type": "stream",
          "name": "stdout",
          "text": [
            "5 is an integer\n",
            "5.0 is not an integer\n",
            "5 is not an integer\n"
          ]
        }
      ]
    },
    {
      "cell_type": "markdown",
      "source": [
        "###Exercise: 2\n",
        "Create a function that tests whether a number is a perfect number.\n",
        "\n",
        "In number theory, a perfect number is a positive integer that is equal to the sum of it's positive divisors excluding the number itself.\n",
        "\n",
        "For example, 6 = 1 + 2 + 3, which are the three divisors of 6.\n",
        "\n",
        "\n"
      ],
      "metadata": {
        "id": "jkbhyVtZu6zG"
      }
    },
    {
      "cell_type": "code",
      "source": [
        "# Exercise 2\n",
        "# Write your code here\n",
        "\n",
        "def testPerfectNum(x):\n",
        "  \"\"\"\n",
        "    Tests if the input is a perfect number\n",
        "    Parameters\n",
        "    ----------\n",
        "    x : int or float\n",
        "        The input to check.\n",
        "\n",
        "    Returns\n",
        "    -------\n",
        "    boolean\n",
        "        Indicating if x is a perfect number (True) or not (False)\n",
        "    \"\"\"\n",
        "  sum_div = []\n",
        "  for i in range (1, x): #this will loop from 1 to x-1. I could check up to x/2 since nothing higher than that could be a divisor. however, i would need to check whether x/2 was an integer - see exercise 1 but use if round(x) == x\n",
        "    if x % i == 0: #if remainder is zero, add it to our list of divisors\n",
        "      sum_div.append(i)\n",
        "\n",
        "  if sum(sum_div) == x: #if our list of divisors sums to the same as x\n",
        "    return True #return true\n",
        "  else: #else\n",
        "    return False #return false\n",
        "\n",
        "print(testPerfectNum(6))"
      ],
      "metadata": {
        "id": "iCxoptnVxylD",
        "colab": {
          "base_uri": "https://localhost:8080/"
        },
        "outputId": "f30b22e4-5203-4331-8dce-0d54c5d53ac0"
      },
      "execution_count": null,
      "outputs": [
        {
          "output_type": "stream",
          "name": "stdout",
          "text": [
            "True\n"
          ]
        }
      ]
    },
    {
      "cell_type": "markdown",
      "source": [
        "##Exercise: 3\n",
        "Write code in a script to print the Fibonacci sequence in the command window:\n",
        "\n",
        "**0**, **1**, 1, 2, 3, 5, 8, 13, 21, ......\n",
        "\n",
        "If you write an infinitely running loop, you can stop the execution using the same button you start it from."
      ],
      "metadata": {
        "id": "DWyAwA7smS6x"
      }
    },
    {
      "cell_type": "code",
      "source": [
        "# Exercise 3\n",
        "# Write your code here\n",
        "\n",
        "#set up the first two values in the sequence\n",
        "twoPrevious=0\n",
        "print(twoPrevious)\n",
        "onePrevious=1\n",
        "print(onePrevious)\n",
        "\n",
        "\n",
        "#while True: #this will run forever!!\n",
        "\n",
        "count=0\n",
        "while count<10: #this will stop after we reach the 10th number in the sequence\n",
        "  currentFib = onePrevious + twoPrevious # calculate current value\n",
        "  print(currentFib)\n",
        "  count = count + 1 #counts the loop iterations\n",
        "\n",
        "  #prepare for the next calculation\n",
        "  twoPrevious=onePrevious\n",
        "  onePrevious=currentFib"
      ],
      "metadata": {
        "id": "JFQPguH0mbpH",
        "colab": {
          "base_uri": "https://localhost:8080/"
        },
        "outputId": "bca4b95d-8d1e-45b1-fff6-357eb41f438b"
      },
      "execution_count": null,
      "outputs": [
        {
          "output_type": "stream",
          "name": "stdout",
          "text": [
            "0\n",
            "1\n",
            "1\n",
            "2\n",
            "3\n",
            "5\n",
            "8\n",
            "13\n",
            "21\n",
            "34\n",
            "55\n",
            "89\n"
          ]
        }
      ]
    },
    {
      "cell_type": "markdown",
      "source": [
        "##Exercise: 4\n",
        "Write code that searches the Fibonacci sequence for a perfect number. You might be able to combine your answers to the previous two exercises."
      ],
      "metadata": {
        "id": "yjrG_e_Jg2uM"
      }
    },
    {
      "cell_type": "code",
      "source": [
        "# Exercise 4\n",
        "# Write your code here\n",
        "\n",
        "# function copied from exercise 2\n",
        "def testPerfectNum(x):\n",
        "  \"\"\"\n",
        "    Tests if the input is a perfect number\n",
        "\n",
        "    Parameters\n",
        "    ----------\n",
        "    x : int or float\n",
        "        The input to check.\n",
        "\n",
        "    Returns\n",
        "    -------\n",
        "    boolean\n",
        "        Indicating if x is a perfect number (True) or not (False)\n",
        "\n",
        "    \"\"\"\n",
        "  sum_div = []\n",
        "  for i in range (x-1, 0, -1):\n",
        "    if x%i == 0:\n",
        "      sum_div.append(i)\n",
        "  return sum(sum_div) == x\n",
        "\n",
        "# slight modified from exercise 3\n",
        "#set up the first two values in the sequence\n",
        "twoPrevious=0\n",
        "onePrevious=1\n",
        "\n",
        "count=0\n",
        "checkLimit=10\n",
        "while count<checkLimit:\n",
        "  currentFib = onePrevious + twoPrevious # calculate current value\n",
        "  if testPerfectNum(currentFib)==True:\n",
        "    print(str(currentFib) + \" is both in the Fibonacci sequence and a perfect number\")\n",
        "    break\n",
        "  count = count + 1 #counts the loop iterations\n",
        "\n",
        "  #prepare for the next calculation\n",
        "  twoPrevious=onePrevious\n",
        "  onePrevious=currentFib\n",
        "\n",
        "if count==checkLimit:\n",
        "  print(\"None found\")"
      ],
      "metadata": {
        "id": "YyMDYoHPg2uM",
        "colab": {
          "base_uri": "https://localhost:8080/"
        },
        "outputId": "489d3e9a-9b06-4f5e-bb4a-9a452c6c7637"
      },
      "execution_count": null,
      "outputs": [
        {
          "output_type": "stream",
          "name": "stdout",
          "text": [
            "None found\n"
          ]
        }
      ]
    },
    {
      "cell_type": "markdown",
      "source": [
        "##Exercise: 5\n",
        "Use a loop to countdown from 100 to 0. Can you print so that we see the following:\n",
        "\n",
        "```\n",
        "countdown = 100\n",
        "countdown = 099\n",
        "countdown = 098\n",
        "etc\n",
        "```"
      ],
      "metadata": {
        "id": "amNGj86Wg49D"
      }
    },
    {
      "cell_type": "code",
      "source": [
        "# Exercise 5\n",
        "# Write your code here\n",
        "\n",
        "for i in range(100, -1, -1):\n",
        "  print('countdown = ', i)"
      ],
      "metadata": {
        "id": "CYFRX9JVg49E"
      },
      "execution_count": null,
      "outputs": []
    },
    {
      "cell_type": "markdown",
      "source": [
        "##Exercise: 6\n",
        "A ball has been tracked after being projected from the coordinate system origin, with positions at various time-points given by X and Y. Use the X and Y coordinates to find the distance away from the origin at each time point."
      ],
      "metadata": {
        "id": "aThA2d762sem"
      }
    },
    {
      "cell_type": "code",
      "source": [
        "X=[a / 10.0 for a in range(0, 106, 13)]\n",
        "Y=[a / 100.0 for a in range(0, 212, 26)]\n",
        "\n",
        "# Exercise 6\n",
        "# Write your code here\n",
        "\n",
        "l = min(len(X), len(Y))\n",
        "\n",
        "R=[]\n",
        "for i in range(l):\n",
        "  R.append((X[i]**2 + Y[i]**2)**0.5)\n",
        "\n",
        "print(R)\n",
        "\n",
        "#r = [(a**2 + b**2)**0.5 for a, b in zip(X, Y)]\n",
        "#print(r)\n"
      ],
      "metadata": {
        "colab": {
          "base_uri": "https://localhost:8080/"
        },
        "id": "KqT6nQd62uxm",
        "outputId": "efae167b-bfcb-4eb3-c76d-583d6d6b2e8f"
      },
      "execution_count": null,
      "outputs": [
        {
          "output_type": "stream",
          "name": "stdout",
          "text": [
            "[0.0, 1.325745073534124, 2.651490147068248, 3.9772352206023722, 5.302980294136496, 6.62872536767062, 7.9544704412047444, 9.280215514738867, 10.605960588272993]\n"
          ]
        }
      ]
    },
    {
      "cell_type": "markdown",
      "source": [
        "##Exercise: 7\n",
        "A ball is projected with a launch angle of 30 degrees and initial speed of 30 m/s. The ball is subject to constant air resistance acting directly against the direction of motion of 2.3N. The ball has mass 0.45kg Write code to calculate the position of the ball throughout the trajectory."
      ],
      "metadata": {
        "id": "RdDM2kU5KoII"
      }
    },
    {
      "cell_type": "code",
      "source": [
        "# Exercise 7\n",
        "# Write your code here\n",
        "\n",
        "import math as m\n",
        "\n",
        "initilaVelocity = 30\n",
        "lauchAngle = m.radians(30)\n",
        "dragAccel=-2.3/0.45\n",
        "\n",
        "x=0\n",
        "y=0\n",
        "vx=initilaVelocity*m.cos(lauchAngle)\n",
        "vy=initilaVelocity*m.sin(lauchAngle)\n",
        "ax=0\n",
        "ay=-9.81\n",
        "\n",
        "X=[0]\n",
        "Y=[0]\n",
        "T=[0]\n",
        "\n",
        "timeSep=0.01\n",
        "t=0\n",
        "\n",
        "while y>=0 or vy>=0:\n",
        "  t=t+timeSep\n",
        "\n",
        "  angle = m.atan(vy/vx)\n",
        "\n",
        "  dx=dragAccel*m.cos(lauchAngle)\n",
        "  dy=dragAccel*m.sin(lauchAngle)\n",
        "\n",
        "  Ax=ax+dy\n",
        "  Ay=ay+dy\n",
        "\n",
        "  vx=vx+timeSep*Ax\n",
        "  vy=vy+timeSep*Ay\n",
        "\n",
        "  x=x+timeSep*vx\n",
        "  y=y+timeSep*vy\n",
        "\n",
        "  X.append(x)\n",
        "  Y.append(y)\n",
        "  T.append(t)\n",
        "\n",
        "\n",
        "import matplotlib.pyplot as plt\n",
        "plt.plot(X, Y)\n",
        "plt.show()\n"
      ],
      "metadata": {
        "colab": {
          "base_uri": "https://localhost:8080/",
          "height": 430
        },
        "id": "VBzaQh_zLFzM",
        "outputId": "7e2984ab-f624-4581-b170-015024da0b5f"
      },
      "execution_count": null,
      "outputs": [
        {
          "output_type": "display_data",
          "data": {
            "text/plain": [
              "<Figure size 640x480 with 1 Axes>"
            ],
            "image/png": "[encoded data removed]"
          },
          "metadata": {}
        }
      ]
    }
  ]
}
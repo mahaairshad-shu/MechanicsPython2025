{
  "nbformat": 4,
  "nbformat_minor": 0,
  "metadata": {
    "colab": {
      "provenance": [],
      "include_colab_link": true
    },
    "kernelspec": {
      "name": "python3",
      "display_name": "Python 3"
    },
    "language_info": {
      "name": "python"
    }
  },
  "cells": [
    {
      "cell_type": "markdown",
      "metadata": {
        "id": "view-in-github",
        "colab_type": "text"
      },
      "source": [
        "<a href=\"https://colab.research.google.com/github/mahaairshad-shu/MechanicsPython2025/blob/main/Week%202/Wk2_Sess1_ConditionalStatements.ipynb\" target=\"_parent\"><img src=\"https://colab.research.google.com/assets/colab-badge.svg\" alt=\"Open In Colab\"/></a>"
      ]
    },
    {
      "cell_type": "markdown",
      "source": [
        "![SHU](https://drive.google.com/uc?export=view&id=1oauWClN3B2tjg1AeVHtfjAXZg13d9HXL)"
      ],
      "metadata": {
        "id": "ZT5kvXk0zqu9"
      }
    },
    {
      "cell_type": "markdown",
      "source": [
        "#**Modelling Mechanics of Sports Engineering**\n",
        "##Week 2\n",
        "###Session 1 - Conditional Statements"
      ],
      "metadata": {
        "id": "jPvJwRYrp8cm"
      }
    },
    {
      "cell_type": "markdown",
      "source": [
        "\n",
        "<a target=\"_blank\" href=\"https://github.com/mahaairshad-shu/MechanicsPython2025\">\n",
        "  <img alt=\"Link to GitHub\" src=\"https://img.shields.io/badge/link_to-GitHub_repo-blue?logo=github&labelColor=black\">\n",
        "\n",
        "</a><a target=\"_blank\" href=\"https://shuspace.shu.ac.uk/ultra/courses/_355862_1/outline\">\n",
        "  <img alt=\"Access course folder\" src=\"https://img.shields.io/badge/access_course_files-Folder-yellow\">\n",
        "</a>"
      ],
      "metadata": {
        "id": "ck3L8P9_oCUR"
      }
    },
    {
      "cell_type": "markdown",
      "source": [
        "✅ **Note: Make sure the AI assistant is turned off**\n",
        "\n",
        "*Tools> Settings> AI assistance> Hide generative AI features*"
      ],
      "metadata": {
        "id": "ThgHInymFWSk"
      }
    },
    {
      "cell_type": "markdown",
      "source": [
        "* Keep saving your changes! ***Ctrl+S***   all the way!"
      ],
      "metadata": {
        "id": "ivioVIAFb9ET"
      }
    },
    {
      "cell_type": "markdown",
      "source": [
        "#Conditional statements\n",
        "\n",
        "Conditionals in coding are statements that control how a computer performs actions by executing different code based on certain conditions. They are a key part of programming and are used to make decisions and control the flow of a program.\n"
      ],
      "metadata": {
        "id": "n5LH7dT13BBy"
      }
    },
    {
      "cell_type": "markdown",
      "source": [
        "Python supports the usual logical conditions from mathematics. These **conditions** can be used in several ways, most commonly in \"if statements\" and loops:\n",
        "\n",
        "\n",
        "\n",
        "```\n",
        "Equals: a == b\n",
        "Not Equals: a != b\n",
        "Less than: a < b\n",
        "Less than or equal to: a <= b\n",
        "Greater than: a > b\n",
        "Greater than or equal to: a >= b\n",
        "```\n",
        "\n",
        "\n"
      ],
      "metadata": {
        "id": "L-Tou3k9GH8-"
      }
    },
    {
      "cell_type": "markdown",
      "source": [
        "Try the following code with different values for a and b:"
      ],
      "metadata": {
        "id": "N1fiZPziJdh2"
      }
    },
    {
      "cell_type": "code",
      "source": [
        "a=2\n",
        "b=3\n",
        "\n",
        "print(a == b)\n",
        "print(a != b)\n",
        "print(a < b)\n",
        "print(a <= b)\n",
        "print(a > b)\n",
        "print(a >= b)"
      ],
      "metadata": {
        "colab": {
          "base_uri": "https://localhost:8080/"
        },
        "id": "qgES5mk2I3DP",
        "outputId": "7433d9cf-10f7-4b8e-b37f-bf5dcdded31d"
      },
      "execution_count": null,
      "outputs": [
        {
          "output_type": "stream",
          "name": "stdout",
          "text": [
            "False\n",
            "True\n",
            "True\n",
            "True\n",
            "False\n",
            "False\n"
          ]
        }
      ]
    },
    {
      "cell_type": "markdown",
      "source": [
        "###if statement\n",
        "*The indentations are key for python to understand your code.*"
      ],
      "metadata": {
        "id": "9QsfvxRAHzv3"
      }
    },
    {
      "cell_type": "code",
      "source": [
        "# A simple use of if statement\n",
        "\n",
        "age = 20\n",
        "if age >= 18:\n",
        "    print(\"You are an adult.\") # python requires indentation to define the scope of the code"
      ],
      "metadata": {
        "colab": {
          "base_uri": "https://localhost:8080/"
        },
        "id": "-WGmylmoHYJu",
        "outputId": "83b6eba8-0b5d-4ee8-c020-59d6a5793b90"
      },
      "execution_count": null,
      "outputs": [
        {
          "output_type": "stream",
          "name": "stdout",
          "text": [
            "You are an adult.\n"
          ]
        }
      ]
    },
    {
      "cell_type": "markdown",
      "source": [
        "###if-else statement"
      ],
      "metadata": {
        "id": "1avNHrjGH1wf"
      }
    },
    {
      "cell_type": "code",
      "source": [
        "# Use if-else statement to do something when the 'if' condition fails\n",
        "\n",
        "age = 15\n",
        "if age >= 18:\n",
        "    print(\"You are an adult.\")\n",
        "else:\n",
        "    print(\"You are a minor.\")"
      ],
      "metadata": {
        "colab": {
          "base_uri": "https://localhost:8080/"
        },
        "id": "2eT1Isn1Hv3P",
        "outputId": "bb5167ff-57b1-460e-afb1-74b7da4d8e6f"
      },
      "execution_count": null,
      "outputs": [
        {
          "output_type": "stream",
          "name": "stdout",
          "text": [
            "You are a minor.\n"
          ]
        }
      ]
    },
    {
      "cell_type": "markdown",
      "source": [
        "###if-elif-else statement\n",
        "'elif' is short for 'else if'.\n",
        "\n",
        "*Its like saying if this isn't True, try this, try this...*"
      ],
      "metadata": {
        "id": "5vNkEHVYIOze"
      }
    },
    {
      "cell_type": "code",
      "source": [
        "# an if-elif-else allows to execute codes for multiple scenarios\n",
        "# it runs in sequence, testing the next condition if the preceding one fails\n",
        "# your code can have as many 'elif' as required but only one 'if' and 'else'\n",
        "# the 'else' in the end runs by default if all the conditions before fail\n",
        "# if-elif-else breaks as soon as one of the conditions is True\n",
        "\n",
        "grade = 85\n",
        "\n",
        "if grade >= 90:        # test result: False\n",
        "    print(\"A\")         # doesn't run\n",
        "    print(\"Excellent!\")# doesn't run\n",
        "\n",
        "elif grade >= 80:      # test result: True\n",
        "    print(\"B\")         # runs\n",
        "    print(\"Good job!\") #\n",
        "                       # the code breaks here and doesn't test any further statements\n",
        "\n",
        "elif grade >= 70:\n",
        "    print(\"C\")\n",
        "    print(\"Keep up the good work!\")\n",
        "\n",
        "else:\n",
        "    print(\"F\")\n",
        "    print(\"You need to work harder.\")"
      ],
      "metadata": {
        "colab": {
          "base_uri": "https://localhost:8080/"
        },
        "id": "3b8MKmCcIOTG",
        "outputId": "2d13588a-d76a-484a-e768-05c5c1eb4952"
      },
      "execution_count": null,
      "outputs": [
        {
          "output_type": "stream",
          "name": "stdout",
          "text": [
            "B\n",
            "Good job!\n"
          ]
        }
      ]
    },
    {
      "cell_type": "markdown",
      "source": [
        "###nested if statements\n",
        "we can have nested if statements.\n",
        "\n",
        "*Its like saying if this is True, try this too.*"
      ],
      "metadata": {
        "id": "LID1Rmq1LTQa"
      }
    },
    {
      "cell_type": "code",
      "source": [
        "x = 10\n",
        "y = 5\n",
        "if x > 5:\n",
        "    if y < 10:\n",
        "        print(\"x is greater than 5 and y is less than 10\")"
      ],
      "metadata": {
        "colab": {
          "base_uri": "https://localhost:8080/"
        },
        "id": "-7_SYSjyLY8R",
        "outputId": "bfac8a89-f4d6-4ca3-ec97-702b25261eaf"
      },
      "execution_count": null,
      "outputs": [
        {
          "output_type": "stream",
          "name": "stdout",
          "text": [
            "x is greater than 5 and y is less than 10\n"
          ]
        }
      ]
    },
    {
      "cell_type": "markdown",
      "source": [
        "### short hand if and if-else statement\n",
        "also called Ternary Operators or Conditional Expressions.\n",
        "\n",
        "\n",
        "if you have one line of statement to execute, you can write a concise version"
      ],
      "metadata": {
        "id": "I95scvoVMcwO"
      }
    },
    {
      "cell_type": "code",
      "source": [
        "# short hand if statement\n",
        "if 5 > 2: print(\"Five is greater than two!\")"
      ],
      "metadata": {
        "colab": {
          "base_uri": "https://localhost:8080/"
        },
        "id": "4F4hmU8_Mj32",
        "outputId": "7e590851-6880-4b6a-fe88-f84d9a6a043f"
      },
      "execution_count": null,
      "outputs": [
        {
          "output_type": "stream",
          "name": "stdout",
          "text": [
            "Five is greater than two!\n"
          ]
        }
      ]
    },
    {
      "cell_type": "code",
      "source": [
        "# short hand if-else statement\n",
        "print(\"Five is greater than two!\") if 5 > 2 else print(\"Two is greater than five!\")"
      ],
      "metadata": {
        "colab": {
          "base_uri": "https://localhost:8080/"
        },
        "id": "Ss3DG5xqNd1H",
        "outputId": "e1db5ed6-4c91-4758-c72d-e00f6d2e2cf2"
      },
      "execution_count": null,
      "outputs": [
        {
          "output_type": "stream",
          "name": "stdout",
          "text": [
            "Five is greater than two!\n"
          ]
        }
      ]
    },
    {
      "cell_type": "code",
      "source": [
        "# more e.g\n",
        "\n",
        "is_raining = True\n",
        "message = \"Take an umbrella\" if is_raining else \"No need for an umbrella\"\n",
        "message"
      ],
      "metadata": {
        "colab": {
          "base_uri": "https://localhost:8080/",
          "height": 36
        },
        "id": "jbx2XZ9yNpCn",
        "outputId": "9e1563dc-ff00-42b7-be7d-4674b62a4c45"
      },
      "execution_count": null,
      "outputs": [
        {
          "output_type": "execute_result",
          "data": {
            "text/plain": [
              "'Take an umbrella'"
            ],
            "application/vnd.google.colaboratory.intrinsic+json": {
              "type": "string"
            }
          },
          "metadata": {},
          "execution_count": 7
        }
      ]
    },
    {
      "cell_type": "code",
      "source": [
        "# multiple short hand if-else statements\n",
        "\n",
        "a = 200\n",
        "b = 100\n",
        "print(\"A\") if a > b else print(\"=\") if a == b else print(\"B\") # it's equivalent to using if-elif-else"
      ],
      "metadata": {
        "colab": {
          "base_uri": "https://localhost:8080/"
        },
        "id": "BnP7kfTTOInr",
        "outputId": "c5c462fa-1c07-4f57-e8e1-1e7c6b3f9b9d"
      },
      "execution_count": null,
      "outputs": [
        {
          "output_type": "stream",
          "name": "stdout",
          "text": [
            "A\n"
          ]
        }
      ]
    },
    {
      "cell_type": "markdown",
      "source": [
        "print(\"A\") if a > b\n",
        "\n",
        "**else**\n",
        "\n",
        "print(\"=\") if a == b\n",
        "\n",
        "**else**\n",
        "\n",
        "print(\"B\")"
      ],
      "metadata": {
        "id": "mGhDBg4rSJMQ"
      }
    },
    {
      "cell_type": "code",
      "source": [
        "#longer version\n",
        "\n",
        "if a > b:\n",
        "  print(\"A\")\n",
        "elif a == b:\n",
        "  print(\"=\")\n",
        "else:\n",
        "  print(\"B\")"
      ],
      "metadata": {
        "colab": {
          "base_uri": "https://localhost:8080/"
        },
        "id": "z7661780Q0Db",
        "outputId": "4df0613c-053f-4c6f-fd08-229c0a985ba9"
      },
      "execution_count": null,
      "outputs": [
        {
          "output_type": "stream",
          "name": "stdout",
          "text": [
            "A\n"
          ]
        }
      ]
    },
    {
      "cell_type": "markdown",
      "source": [
        "###logical operators"
      ],
      "metadata": {
        "id": "CilD6DjwTK1X"
      }
    },
    {
      "cell_type": "markdown",
      "source": [
        "we can use logical operators to combine if statements:\n",
        "\n",
        "- **AND** : *if* this AND this is true, do this\n",
        "\n",
        "- **OR** : *if* this OR this is true, do this\n",
        "\n",
        "- **NOT** : *if* this is NOT true, do this"
      ],
      "metadata": {
        "id": "mKHXM592TN4v"
      }
    },
    {
      "cell_type": "code",
      "source": [
        "a = 5\n",
        "if a > 2 and a < 10:\n",
        "  print(\"Both conditions are True\")"
      ],
      "metadata": {
        "colab": {
          "base_uri": "https://localhost:8080/"
        },
        "id": "24MGb5C5Taxi",
        "outputId": "a4337b88-abfe-4747-ffd4-c1adaa1b046a"
      },
      "execution_count": null,
      "outputs": [
        {
          "output_type": "stream",
          "name": "stdout",
          "text": [
            "Both conditions are True\n"
          ]
        }
      ]
    },
    {
      "cell_type": "code",
      "source": [
        "if a > 2 or a > 10:\n",
        "  print(\"At least one of the conditions is True\")"
      ],
      "metadata": {
        "colab": {
          "base_uri": "https://localhost:8080/"
        },
        "id": "BpT4AG7uUUMg",
        "outputId": "d880d114-7f5a-4686-f9d6-39adc333147c"
      },
      "execution_count": null,
      "outputs": [
        {
          "output_type": "stream",
          "name": "stdout",
          "text": [
            "At least one of the conditions is True\n"
          ]
        }
      ]
    },
    {
      "cell_type": "code",
      "source": [
        "if not a == 6:\n",
        "  print(\"a is not equal to 6\")"
      ],
      "metadata": {
        "colab": {
          "base_uri": "https://localhost:8080/"
        },
        "id": "lqUAgN7dUWik",
        "outputId": "6f255371-3bfe-4d2a-9ad9-d5e451c95647"
      },
      "execution_count": null,
      "outputs": [
        {
          "output_type": "stream",
          "name": "stdout",
          "text": [
            "a is not equal to 6\n"
          ]
        }
      ]
    },
    {
      "cell_type": "code",
      "source": [
        "# more e.g\n",
        "\n",
        "temperature = 25\n",
        "humidity = 60\n",
        "\n",
        "if temperature > 30 and humidity > 70:\n",
        "  print(\"It's hot and humid.\")\n",
        "elif temperature > 30 or humidity > 70:\n",
        "  print(\"It's either hot or humid.\")\n",
        "else:\n",
        "  print(\"It's neither hot nor humid.\")"
      ],
      "metadata": {
        "colab": {
          "base_uri": "https://localhost:8080/"
        },
        "id": "xUcBQZAnU9Ut",
        "outputId": "ffe10ea3-8f9f-43ae-c37e-144dca3b7789"
      },
      "execution_count": null,
      "outputs": [
        {
          "output_type": "stream",
          "name": "stdout",
          "text": [
            "It's neither hot nor humid.\n"
          ]
        }
      ]
    },
    {
      "cell_type": "markdown",
      "source": [
        "###pass statement\n",
        "an if statement can't be empty. If you for some reason need to keep it empty, add add 'pass' statement.\n",
        "\n",
        "\n",
        "it does nothing! (useful sometimes)"
      ],
      "metadata": {
        "id": "NUFYRyo9V0MT"
      }
    },
    {
      "cell_type": "code",
      "source": [
        "#pass\n",
        "a = 33\n",
        "b = 200\n",
        "\n",
        "if b > a:\n",
        "  pass"
      ],
      "metadata": {
        "id": "KbNEv70sTZX9"
      },
      "execution_count": null,
      "outputs": []
    },
    {
      "cell_type": "markdown",
      "source": [
        "❗Write a code to add/sub/mult/div num1 and num2 by changing the *operator* variable to add/sub/mult/div and print the results❗\n",
        "\n",
        "- for an unknown operator name, it should print 'Error: Invalid Operation'\n",
        "- when dividing by zero, it should print an error"
      ],
      "metadata": {
        "id": "zJO0twm92ouE"
      }
    },
    {
      "cell_type": "code",
      "source": [
        "# Write your code here\n",
        "\n",
        "num1 = 10\n",
        "num2 = 5\n",
        "operator = 'add' # possibilities: add, sub, mult, div"
      ],
      "metadata": {
        "id": "0waWdwudY1SI"
      },
      "execution_count": null,
      "outputs": []
    }
  ]
}
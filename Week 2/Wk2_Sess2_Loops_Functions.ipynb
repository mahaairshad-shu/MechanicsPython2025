{
  "nbformat": 4,
  "nbformat_minor": 0,
  "metadata": {
    "colab": {
      "provenance": [],
      "toc_visible": true,
      "include_colab_link": true
    },
    "kernelspec": {
      "name": "python3",
      "display_name": "Python 3"
    },
    "language_info": {
      "name": "python"
    }
  },
  "cells": [
    {
      "cell_type": "markdown",
      "metadata": {
        "id": "view-in-github",
        "colab_type": "text"
      },
      "source": [
        "<a href=\"https://colab.research.google.com/github/mahaairshad-shu/MechanicsPython2025/blob/main/Week%202/Wk2_Sess2_Loops_Functions.ipynb\" target=\"_parent\"><img src=\"https://colab.research.google.com/assets/colab-badge.svg\" alt=\"Open In Colab\"/></a>"
      ]
    },
    {
      "cell_type": "markdown",
      "source": [
        "![SHU](https://drive.google.com/uc?export=view&id=1oauWClN3B2tjg1AeVHtfjAXZg13d9HXL)"
      ],
      "metadata": {
        "id": "ZT5kvXk0zqu9"
      }
    },
    {
      "cell_type": "markdown",
      "source": [
        "#**Modelling Mechanics of Sports Engineering**\n",
        "##Week 2\n",
        "###Session 2 - Loops and Code structuring with Functions"
      ],
      "metadata": {
        "id": "jPvJwRYrp8cm"
      }
    },
    {
      "cell_type": "markdown",
      "source": [
        "\n",
        "<a target=\"_blank\" href=\"https://github.com/mahaairshad-shu/MechanicsPython2025\">\n",
        "  <img alt=\"Link to GitHub\" src=\"https://img.shields.io/badge/link_to-GitHub_repo-blue?logo=github&labelColor=black\">\n",
        "\n",
        "</a><a target=\"_blank\" href=\"https://shuspace.shu.ac.uk/ultra/courses/_355862_1/outline\">\n",
        "  <img alt=\"Access course folder\" src=\"https://img.shields.io/badge/access_course_files-Folder-yellow\">\n",
        "</a>"
      ],
      "metadata": {
        "id": "ck3L8P9_oCUR"
      }
    },
    {
      "cell_type": "markdown",
      "source": [
        "✅ **Note: Make sure the AI assistant is turned off**\n",
        "\n",
        "*Tools> Settings> AI assistance> Hide generative AI features*"
      ],
      "metadata": {
        "id": "ThgHInymFWSk"
      }
    },
    {
      "cell_type": "markdown",
      "source": [
        "* Keep saving your changes! ***Ctrl+S***   all the way!"
      ],
      "metadata": {
        "id": "ivioVIAFb9ET"
      }
    },
    {
      "cell_type": "markdown",
      "source": [
        "#2. Loops\n",
        "Loops are used to repeatedly execute a block of code.\n",
        "\n",
        "Python provides two main types of loops: for loops and while loops."
      ],
      "metadata": {
        "id": "K-B09js95Vzq"
      }
    },
    {
      "cell_type": "markdown",
      "source": [
        "## For loops\n",
        "For loops are used to iterate over a sequence (like a list, tuple, string, or range) or other iterable objects."
      ],
      "metadata": {
        "id": "Vgh8TF5Vs2Iq"
      }
    },
    {
      "cell_type": "code",
      "source": [
        "# A simple for loop to iterate over a list of numbers.\n",
        "\n",
        "numbers = [1, 2, 3, 4, 5]\n",
        "for number in numbers:  # the number variable will take each value in the list for each iteration\n",
        "    print(number)"
      ],
      "metadata": {
        "colab": {
          "base_uri": "https://localhost:8080/"
        },
        "id": "fQmFvhZnu_gN",
        "outputId": "466b06ff-43e6-470d-dcd2-21d4535cdec5"
      },
      "execution_count": null,
      "outputs": [
        {
          "output_type": "stream",
          "name": "stdout",
          "text": [
            "1\n",
            "2\n",
            "3\n",
            "4\n",
            "5\n"
          ]
        }
      ]
    },
    {
      "cell_type": "code",
      "source": [
        "# You can also iterate over a string.\n",
        "\n",
        "message = \"Hello, world!\"\n",
        "for letter in message:\n",
        "    print(letter)"
      ],
      "metadata": {
        "colab": {
          "base_uri": "https://localhost:8080/"
        },
        "id": "aDgAA20eyvS2",
        "outputId": "e3559ebe-9b55-454e-bd8f-7f2223f73924"
      },
      "execution_count": null,
      "outputs": [
        {
          "output_type": "stream",
          "name": "stdout",
          "text": [
            "H\n",
            "e\n",
            "l\n",
            "l\n",
            "o\n",
            ",\n",
            " \n",
            "w\n",
            "o\n",
            "r\n",
            "l\n",
            "d\n",
            "!\n"
          ]
        }
      ]
    },
    {
      "cell_type": "code",
      "source": [
        "# The `range()` function generates a sequence of numbers, which is commonly used with for loops.\n",
        "\n",
        "for i in range(5): # range(5) will generate numbers from 0 to 4.\n",
        "    print(i)"
      ],
      "metadata": {
        "colab": {
          "base_uri": "https://localhost:8080/"
        },
        "id": "VRnthWyby04d",
        "outputId": "959c7ae3-d303-4743-e8d5-26b7bba8acf4"
      },
      "execution_count": null,
      "outputs": [
        {
          "output_type": "stream",
          "name": "stdout",
          "text": [
            "0\n",
            "1\n",
            "2\n",
            "3\n",
            "4\n"
          ]
        }
      ]
    },
    {
      "cell_type": "code",
      "source": [
        "for i in range(2, 8): # range(2, 8) will generate numbers from 2 to 7.\n",
        "    print(i)"
      ],
      "metadata": {
        "colab": {
          "base_uri": "https://localhost:8080/"
        },
        "id": "UB8YCzKjW_cB",
        "outputId": "db8aeb8e-4a2d-48ee-daad-3dcdac1d2c3f"
      },
      "execution_count": null,
      "outputs": [
        {
          "output_type": "stream",
          "name": "stdout",
          "text": [
            "2\n",
            "3\n",
            "4\n",
            "5\n",
            "6\n",
            "7\n"
          ]
        }
      ]
    },
    {
      "cell_type": "code",
      "source": [
        "for i in range(2, 10, 2): # range(2, 10, 2) will generate numbers from 2 to 8 with a step of 2.\n",
        "    print(i)"
      ],
      "metadata": {
        "colab": {
          "base_uri": "https://localhost:8080/"
        },
        "id": "R2shkQ2wXG1n",
        "outputId": "dd58438d-5fc4-44aa-b907-6ef6e1779bf1"
      },
      "execution_count": null,
      "outputs": [
        {
          "output_type": "stream",
          "name": "stdout",
          "text": [
            "2\n",
            "4\n",
            "6\n",
            "8\n"
          ]
        }
      ]
    },
    {
      "cell_type": "code",
      "source": [
        "# Looping with an index\n",
        "\n",
        "# If you need the index of each item in the sequence, you can use the `enumerate()` function.\n",
        "\n",
        "fruits = [\"apple\", \"banana\", \"cherry\"]\n",
        "for index, fruit in enumerate(fruits):  # enumerate generates both index and value\n",
        "    print(f\"Fruit at index {index} is {fruit}\")"
      ],
      "metadata": {
        "colab": {
          "base_uri": "https://localhost:8080/"
        },
        "id": "Sz1tEvB4zEH_",
        "outputId": "82ce9b00-42a3-4c0c-fffa-b52b364af7a6"
      },
      "execution_count": null,
      "outputs": [
        {
          "output_type": "stream",
          "name": "stdout",
          "text": [
            "Fruit at index 0 is apple\n",
            "Fruit at index 1 is banana\n",
            "Fruit at index 2 is cherry\n"
          ]
        }
      ]
    },
    {
      "cell_type": "code",
      "source": [
        "# Assuming a 3x3 array/matrix\n",
        "my_array = [[11, 12, 13], [21, 22, 23], [31, 32, 33]] #note that this lis a list of lists, not a numpy array\n",
        "\n",
        "# Nested for loops to iterate through the array\n",
        "for i in range(len(my_array)):  # Iterate through rows\n",
        "    for j in range(len(my_array[i])):  # Iterate through columns\n",
        "        print(my_array[i][j])  # Print each element with a space"
      ],
      "metadata": {
        "colab": {
          "base_uri": "https://localhost:8080/"
        },
        "id": "ifjGv8Ns0gC1",
        "outputId": "be09e4be-aa00-4849-def6-13334e5e3f9c"
      },
      "execution_count": null,
      "outputs": [
        {
          "output_type": "stream",
          "name": "stdout",
          "text": [
            "11\n",
            "12\n",
            "13\n",
            "21\n",
            "22\n",
            "23\n",
            "31\n",
            "32\n",
            "33\n"
          ]
        }
      ]
    },
    {
      "cell_type": "markdown",
      "source": [
        "###List comprehensions\n",
        "A concise way to create new lists based on existing lists."
      ],
      "metadata": {
        "id": "Tvayucck5M5F"
      }
    },
    {
      "cell_type": "code",
      "source": [
        "numbers = [1, 2, 3, 4, 5]\n",
        "squares = [number**2 for number in numbers]\n",
        "print(squares) # list containing squared values"
      ],
      "metadata": {
        "colab": {
          "base_uri": "https://localhost:8080/"
        },
        "id": "PAq2bhT_5MLS",
        "outputId": "5db25463-cee5-492e-abee-0ef1c7201b32"
      },
      "execution_count": null,
      "outputs": [
        {
          "output_type": "stream",
          "name": "stdout",
          "text": [
            "[1, 4, 9, 16, 25]\n"
          ]
        }
      ]
    },
    {
      "cell_type": "code",
      "source": [
        "# we can also put condition\n",
        "\n",
        "even_squares = [number**2 for number in numbers if number % 2 == 0]\n",
        "print(even_squares) # only the even numbers get squared"
      ],
      "metadata": {
        "colab": {
          "base_uri": "https://localhost:8080/"
        },
        "id": "6gMO97vw5TJF",
        "outputId": "d8f70519-4c5a-49d8-f29a-408ddc81e1eb"
      },
      "execution_count": null,
      "outputs": [
        {
          "output_type": "stream",
          "name": "stdout",
          "text": [
            "[4, 16]\n"
          ]
        }
      ]
    },
    {
      "cell_type": "markdown",
      "source": [
        "###Loop control statements\n",
        "- break: Terminates the loop prematurely.\n",
        "- continue: Skips the current iteration and proceeds to the next."
      ],
      "metadata": {
        "id": "L502jERK2Trb"
      }
    },
    {
      "cell_type": "code",
      "source": [
        "# Example using 'break'\n",
        "\n",
        "for i in range(10):\n",
        "    if i == 5:\n",
        "        break  # exit the loop when i is 5\n",
        "    print(i) # output won't go beyond 4"
      ],
      "metadata": {
        "colab": {
          "base_uri": "https://localhost:8080/"
        },
        "id": "OFjL51en2mBe",
        "outputId": "41b1b4af-2c79-49f0-a1f0-da61301a94c9"
      },
      "execution_count": null,
      "outputs": [
        {
          "output_type": "stream",
          "name": "stdout",
          "text": [
            "0\n",
            "1\n",
            "2\n",
            "3\n",
            "4\n"
          ]
        }
      ]
    },
    {
      "cell_type": "code",
      "source": [
        "# Example using 'continue'\n",
        "\n",
        "for i in range(10):\n",
        "    if i % 2 == 0: # skip if it is even. '%' is called a Modulo operator that returns the remainder from division\n",
        "        continue   # go to the next iteration\n",
        "    print(i)       # only odd numbers will be printed"
      ],
      "metadata": {
        "colab": {
          "base_uri": "https://localhost:8080/"
        },
        "id": "v5XPtMOg2oo0",
        "outputId": "36d28b9a-33e9-4d97-beeb-512be2276ba1"
      },
      "execution_count": null,
      "outputs": [
        {
          "output_type": "stream",
          "name": "stdout",
          "text": [
            "1\n",
            "3\n",
            "5\n",
            "7\n",
            "9\n"
          ]
        }
      ]
    },
    {
      "cell_type": "markdown",
      "source": [
        "##While loops\n",
        "\n",
        "While loops execute a block of code as long as a given condition is true.\n",
        "\n",
        "Choose the right loop\n",
        "\n",
        "In general, use for loops when you know in advance how many times you need to iterate.  Use while loops when the number of iterations is not predetermined or depends on a condition."
      ],
      "metadata": {
        "id": "s2tI9SFC5mK8"
      }
    },
    {
      "cell_type": "code",
      "source": [
        "# Basic while loop\n",
        "\n",
        "count = 0\n",
        "while count < 5:\n",
        "    print(count)\n",
        "    count += 1  # Increment the counter, important! Avoid infinite loops"
      ],
      "metadata": {
        "colab": {
          "base_uri": "https://localhost:8080/"
        },
        "id": "BdH9cWO75qU7",
        "outputId": "71940fa3-0c60-4749-a5c2-939b628cc4e1"
      },
      "execution_count": null,
      "outputs": [
        {
          "output_type": "stream",
          "name": "stdout",
          "text": [
            "0\n",
            "1\n",
            "2\n",
            "3\n",
            "4\n"
          ]
        }
      ]
    },
    {
      "cell_type": "code",
      "source": [
        "# While loop with break\n",
        "# 'while True:' creates an infinite loop\n",
        "# we can add a condition to break the loop\n",
        "\n",
        "count = 0\n",
        "while True:\n",
        "    if count >= 5:\n",
        "        break\n",
        "    print(count)\n",
        "    count += 1"
      ],
      "metadata": {
        "colab": {
          "base_uri": "https://localhost:8080/"
        },
        "id": "MWsRv5nT5t07",
        "outputId": "679db469-a23a-4916-e808-6ece133f2877"
      },
      "execution_count": null,
      "outputs": [
        {
          "output_type": "stream",
          "name": "stdout",
          "text": [
            "0\n",
            "1\n",
            "2\n",
            "3\n",
            "4\n"
          ]
        }
      ]
    },
    {
      "cell_type": "code",
      "source": [
        "# Infinite loops (use with caution and make sure there's a way to break out)\n",
        "#while True:\n",
        "#  print(\"This will run forever!\")  #unless you manually stop the kernel or add break"
      ],
      "metadata": {
        "id": "pKx3zyn16KgG"
      },
      "execution_count": null,
      "outputs": []
    },
    {
      "cell_type": "markdown",
      "source": [
        "❗You might remember the matrix multiplication numpy operation (np.dot) from last week. Use loops to perform matrix multiplication between lists A and B. A double nested loop has already been created❗\n",
        "- a null matrix (result) has been created. Use the loops to fill it.\n",
        "- check your answers by comparing with np.dot()"
      ],
      "metadata": {
        "id": "na8ILCBBFVbw"
      }
    },
    {
      "cell_type": "markdown",
      "source": [
        "\n",
        "\n",
        "![image.png](data:image/png;base64,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)"
      ],
      "metadata": {
        "id": "Sx3alMOb6_RI"
      }
    },
    {
      "cell_type": "markdown",
      "source": [
        "**2** x 2   *    2 x **2**     =   2 x 2\n",
        "\n",
        "\n",
        "  A    *     B        =    result"
      ],
      "metadata": {
        "id": "rFAjDmtA-LsS"
      }
    },
    {
      "cell_type": "code",
      "source": [
        "A = [[3, 6], [5, 4]]\n",
        "B = [[7, 1], [2, 9]]\n",
        "\n",
        "\n",
        "result = [[0 for i in range(len(B[0]))] for j in range(len(A))] # a resultant list created using list comprehension\n",
        "# to get size of a 2D list\n",
        "# row = len(A)\n",
        "# col = len(A[0])\n",
        "\n",
        "for i in range(len(A)):\n",
        "    for j in range(len(B[0])):\n",
        "        for k in range(len(B)):\n",
        "            result[i][j] +=  #write code here\n",
        "print(result)"
      ],
      "metadata": {
        "colab": {
          "base_uri": "https://localhost:8080/"
        },
        "id": "jK8iaPtr8IgL",
        "outputId": "c3ef1b55-ccd2-4273-d837-165295d95c00"
      },
      "execution_count": null,
      "outputs": [
        {
          "output_type": "stream",
          "name": "stdout",
          "text": [
            "[[0, 0], [0, 0]]\n"
          ]
        }
      ]
    },
    {
      "cell_type": "markdown",
      "source": [
        "#Functions\n",
        "- Functions are blocks of reusable and organised code that usually perform a single, related action.\n",
        "- They are a crucial part of programming because they save you a lot of time and make your code cleaner.\n",
        "- The variables inside a function are only known inside its environment - local variables"
      ],
      "metadata": {
        "id": "P4qIG0FDQcGR"
      }
    },
    {
      "cell_type": "markdown",
      "source": [
        "You've probably used many functions until now without realizing. Remember np.sum() or np.mean()"
      ],
      "metadata": {
        "id": "KETWpEjVRBUk"
      }
    },
    {
      "cell_type": "code",
      "source": [
        "# a simple example of a function to add 2 numbers\n",
        "\n",
        "# a function is defined once in a code\n",
        "def add(x, y): # input(s)/argument(s) in parenthesis with function name, separated by comma(s)\n",
        "  \"\"\"This function adds two numbers and returns the result.\"\"\"\n",
        "  return x + y\n",
        "\n",
        "  #the indentation is crucial\n",
        "\n",
        "sum_result1 = add(5, 3) # calling a function\n",
        "print(sum_result1)\n",
        "\n",
        "sum_result2 = add(10, 20) # you can call a function as many times as required\n",
        "print(sum_result2)"
      ],
      "metadata": {
        "colab": {
          "base_uri": "https://localhost:8080/"
        },
        "id": "fSd9YLEDQ7gi",
        "outputId": "8f34ac20-96ed-4e30-b808-ed31fdd15108"
      },
      "execution_count": null,
      "outputs": [
        {
          "output_type": "stream",
          "name": "stdout",
          "text": [
            "8\n",
            "30\n"
          ]
        }
      ]
    },
    {
      "cell_type": "markdown",
      "source": [
        "the np.sum() function does something like the following:"
      ],
      "metadata": {
        "id": "fN2NYNDiTbiJ"
      }
    },
    {
      "cell_type": "code",
      "source": [
        "import numpy as np\n",
        "\n",
        "a = np.array([1, 2, 3, 4, 5])\n",
        "\n",
        "def mySum(x):\n",
        "  sum = 0\n",
        "  for i in x:\n",
        "    sum = sum + i\n",
        "  return sum\n",
        "\n",
        "mySum(a)"
      ],
      "metadata": {
        "colab": {
          "base_uri": "https://localhost:8080/"
        },
        "id": "Nkv6N674S_V6",
        "outputId": "9847039a-17c9-4941-8803-5bfc5feb7f9b"
      },
      "execution_count": null,
      "outputs": [
        {
          "output_type": "execute_result",
          "data": {
            "text/plain": [
              "15"
            ]
          },
          "metadata": {},
          "execution_count": 4
        }
      ]
    },
    {
      "cell_type": "markdown",
      "source": [
        "### Variable Scope"
      ],
      "metadata": {
        "id": "P8hdcFnQYVWP"
      }
    },
    {
      "cell_type": "code",
      "source": [
        "# Variables defined inside a function are local to that function.  They can't be accessed outside of the function.\n",
        "\n",
        "def my_function():\n",
        "  x = 10\n",
        "  print(x) # Accessing x inside the function is fine\n",
        "\n",
        "my_function()\n",
        "# print(x)  # This will cause an error! x is not defined outside my_function"
      ],
      "metadata": {
        "colab": {
          "base_uri": "https://localhost:8080/"
        },
        "id": "GWvCc7h7VOZZ",
        "outputId": "2648c37b-1fff-4ae1-e42e-2f33b9e9ff5d"
      },
      "execution_count": null,
      "outputs": [
        {
          "output_type": "stream",
          "name": "stdout",
          "text": [
            "10\n"
          ]
        }
      ]
    },
    {
      "cell_type": "markdown",
      "source": [
        "If we need to make changes to a variable existing outside the function (global variable), it needs to be defined in the beginning of the function"
      ],
      "metadata": {
        "id": "4ha7vQ36YsXv"
      }
    },
    {
      "cell_type": "code",
      "source": [
        "x = 0\n",
        "def my_function():\n",
        "  global x\n",
        "  x = 10\n",
        "\n",
        "my_function()\n",
        "print(x) # This wouldn't cause any errors"
      ],
      "metadata": {
        "colab": {
          "base_uri": "https://localhost:8080/"
        },
        "id": "7uToeV3WY9Au",
        "outputId": "87046db0-648f-428f-e233-04fd1bc9458d"
      },
      "execution_count": null,
      "outputs": [
        {
          "output_type": "stream",
          "name": "stdout",
          "text": [
            "10\n"
          ]
        }
      ]
    },
    {
      "cell_type": "markdown",
      "source": [
        "❗Can you write a function myMean() to return the mean of all the elements of an array❗\n"
      ],
      "metadata": {
        "id": "zJO0twm92ouE"
      }
    },
    {
      "cell_type": "code",
      "source": [
        "#def myMean(x):\n",
        "  # Write code here\n",
        "  #\n",
        "  #\n",
        "  #return result\n",
        "\n",
        "a = np.array([1, 2, 3, 4, 5])\n",
        "#myMean(a)"
      ],
      "metadata": {
        "id": "jROdcyyYTz5m"
      },
      "execution_count": null,
      "outputs": []
    },
    {
      "cell_type": "markdown",
      "source": [
        "### Keyword arguments"
      ],
      "metadata": {
        "id": "IWt5H3LQYcue"
      }
    },
    {
      "cell_type": "code",
      "source": [
        "# When calling a function, you can use keyword arguments to specify the values for arguments by their names.  This makes the code more readable, especially when functions have many arguments.\n",
        "\n",
        "def describe_pet(animal_type, pet_name):\n",
        "  \"\"\"Display information about a pet.\"\"\"\n",
        "  print(f\"\\nI have a {animal_type}.\")\n",
        "  print(f\"My {animal_type}'s name is {pet_name.title()}.\")\n",
        "\n",
        "describe_pet(pet_name='Harry', animal_type='hamster') # Order does not matter when using keyword args"
      ],
      "metadata": {
        "colab": {
          "base_uri": "https://localhost:8080/"
        },
        "id": "xjkBMunqU-97",
        "outputId": "9e7faea7-447a-4279-c96b-e7cc931ebc56"
      },
      "execution_count": null,
      "outputs": [
        {
          "output_type": "stream",
          "name": "stdout",
          "text": [
            "\n",
            "I have a hamster.\n",
            "My hamster's name is Harry.\n"
          ]
        }
      ]
    },
    {
      "cell_type": "markdown",
      "source": [
        "### Default argument value"
      ],
      "metadata": {
        "id": "k0cVAgdLYhMO"
      }
    },
    {
      "cell_type": "code",
      "source": [
        "# your function can also have default input incase the input was not set while calling.\n",
        "def describe_pet(pet_name, animal_type='dog'): # the default arguments can only be set after the non-default ones\n",
        "  \"\"\"Display information about a pet.\"\"\"\n",
        "  print(f\"\\nI have a {animal_type}, named {pet_name}.\")\n",
        "\n",
        "describe_pet('Henrietta')\n",
        "# here, if you try calling the function with unknown pet_name, it will raise an error\n",
        "#describe_pet(animal_type='porcupine')"
      ],
      "metadata": {
        "colab": {
          "base_uri": "https://localhost:8080/"
        },
        "id": "xzkw0TvuWzoi",
        "outputId": "ae58293b-3742-4911-bc72-9960cb360bc5"
      },
      "execution_count": null,
      "outputs": [
        {
          "output_type": "stream",
          "name": "stdout",
          "text": [
            "\n",
            "I have a dog, named Henrietta.\n"
          ]
        }
      ]
    },
    {
      "cell_type": "markdown",
      "source": [
        "### Multiple outputs"
      ],
      "metadata": {
        "id": "2DBmKQ7TYmF-"
      }
    },
    {
      "cell_type": "code",
      "source": [
        "# Similar to having multiple inputs/arguments, your function can also have multiple outputs\n",
        "\n",
        "def calculate_stats(data):\n",
        "  \"\"\"Calculate mean and standard deviation of a NumPy array.\"\"\"\n",
        "  mean = np.mean(data)\n",
        "  std_dev = np.std(data)\n",
        "  return mean, std_dev # return multiple values as a tuple\n",
        "\n",
        "my_data = np.array([1,2,3,4,5])\n",
        "average, deviation = calculate_stats(my_data) # unpack the tuple\n",
        "print(f\"Mean: {average}, Standard Deviation:{deviation}\")"
      ],
      "metadata": {
        "colab": {
          "base_uri": "https://localhost:8080/"
        },
        "id": "fHiSFDx2VEtT",
        "outputId": "28a73853-ccad-4ce4-af4e-5192c99c3028"
      },
      "execution_count": null,
      "outputs": [
        {
          "output_type": "stream",
          "name": "stdout",
          "text": [
            "Mean: 3.0, Standard Deviation:1.4142135623730951\n"
          ]
        }
      ]
    },
    {
      "cell_type": "markdown",
      "source": [
        "❗You are doing data entry to upload bio data of a team. Can you write a function to update the person in myDict to save time?❗\n",
        "- notice that myDict exists outside the function. The changes should be made to the dictionary directly\n",
        "- upload a default age of np.nan, if not shared\n"
      ],
      "metadata": {
        "id": "9mi_EsptYFqE"
      }
    },
    {
      "cell_type": "code",
      "source": [
        "myDict= {}\n",
        "myDict[\"DavidH\"] = {\"age\": 30, \"gender\": \"Male\"}\n",
        "\n",
        "#def addMember():\n",
        "  # Write code here\n",
        "  #\n",
        "  #\n",
        "\n",
        "#addMember(\"JohnK\", 25, \"Male\")\n",
        "print(myDict)"
      ],
      "metadata": {
        "colab": {
          "base_uri": "https://localhost:8080/"
        },
        "id": "aO_APSqkZUFI",
        "outputId": "dff7c361-75f2-4e5d-c247-be172c56edbd"
      },
      "execution_count": null,
      "outputs": [
        {
          "output_type": "stream",
          "name": "stdout",
          "text": [
            "{'DavidH': {'age': 30, 'gender': 'Male'}}\n"
          ]
        }
      ]
    },
    {
      "cell_type": "markdown",
      "source": [
        "###Docstrings\n",
        "Although our solutions to the previous exercises do work, they could be much more documented. Keep in mind that code is written once, often by only one programmer, but it is read many times after, often by other people. An undocumented function is usually clear to the programmer while it is being written, but will it be months later?\n",
        "\n",
        "Docstrings are the most important way to document functions. A docstring is a string that documents a function. While being optional, it is helpful in any code other than very simple scripts. A standard docstrings is a triple-quote string placed just below the function signature. Minimally, a docstring clearly indicates:\n",
        "\n",
        "- What the function does\n",
        "\n",
        "- What are the types and contents of every expected parameter\n",
        "\n",
        "- What are the type and contents of the return value, if any.\n",
        "\n",
        "Following is a good example of adding docstring to your function.\n",
        "\n",
        "\n",
        "[ref](https://kineticstoolkit.uqam.ca/doc/python_functions_docstrings.html)"
      ],
      "metadata": {
        "id": "vEMavzTQSrP3"
      }
    },
    {
      "cell_type": "code",
      "source": [
        "def format_info(i_participant, first_name, last_name, age, height, weight):\n",
        "    \"\"\"\n",
        "    Format the provided information into a human-readable string.\n",
        "\n",
        "    Parameters\n",
        "    ----------\n",
        "    i_participant : int\n",
        "        Identifier for the participant\n",
        "    first_name : str\n",
        "        First name (given name) of the participant\n",
        "    last_name : str\n",
        "        Last name (surname) of the participant\n",
        "    age : float\n",
        "        Age of the participant, in years\n",
        "    height : float\n",
        "        Height of the participant, in meters\n",
        "    weight : float\n",
        "        Weight of the participant, in kg\n",
        "\n",
        "    Returns\n",
        "    -------\n",
        "    str\n",
        "        A human-readable string based on the provided information.\n",
        "\n",
        "    \"\"\"\n",
        "    output = (\n",
        "        \"=============\\n\"\n",
        "        f\"Participant {i_participant}: {first_name} {last_name}\\n\"\n",
        "        f\"{age} years old\\n\"\n",
        "        f\"Height: {height} m\\n\"\n",
        "        f\"Weight: {weight} kg\\n\"\n",
        "        f\"BMI: {weight / (height ** 2):.2f}\\n\"\n",
        "        \"=============\"\n",
        "    )\n",
        "    return output"
      ],
      "metadata": {
        "id": "ddrpk2DaTDx6"
      },
      "execution_count": null,
      "outputs": []
    }
  ]
}
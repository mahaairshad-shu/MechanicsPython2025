{
  "nbformat": 4,
  "nbformat_minor": 0,
  "metadata": {
    "colab": {
      "provenance": [],
      "include_colab_link": true
    },
    "kernelspec": {
      "name": "python3",
      "display_name": "Python 3"
    },
    "language_info": {
      "name": "python"
    }
  },
  "cells": [
    {
      "cell_type": "markdown",
      "metadata": {
        "id": "view-in-github",
        "colab_type": "text"
      },
      "source": [
        "<a href=\"https://colab.research.google.com/github/mahaairshad-shu/MechanicsPython2025/blob/main/Week%202/Wk2_Sess3_Exercises.ipynb\" target=\"_parent\"><img src=\"https://colab.research.google.com/assets/colab-badge.svg\" alt=\"Open In Colab\"/></a>"
      ]
    },
    {
      "cell_type": "markdown",
      "source": [
        "![SHU](https://drive.google.com/uc?export=view&id=1oauWClN3B2tjg1AeVHtfjAXZg13d9HXL)"
      ],
      "metadata": {
        "id": "ZT5kvXk0zqu9"
      }
    },
    {
      "cell_type": "markdown",
      "source": [
        "#**Modelling Mechanics of Sports Engineering**\n",
        "##Week 1\n",
        "###Session 3 - Practice tasks"
      ],
      "metadata": {
        "id": "jPvJwRYrp8cm"
      }
    },
    {
      "cell_type": "markdown",
      "source": [
        "\n",
        "<a target=\"_blank\" href=\"https://github.com/mahaairshad-shu/MechanicsPython2025\">\n",
        "  <img alt=\"Link to GitHub\" src=\"https://img.shields.io/badge/link_to-GitHub_repo-blue?logo=github&labelColor=black\">\n",
        "\n",
        "</a><a target=\"_blank\" href=\"https://shuspace.shu.ac.uk/ultra/courses/_355862_1/outline\">\n",
        "  <img alt=\"Access course folder\" src=\"https://img.shields.io/badge/access_course_files-Folder-yellow\">\n",
        "</a>"
      ],
      "metadata": {
        "id": "ck3L8P9_oCUR"
      }
    },
    {
      "cell_type": "markdown",
      "source": [
        "#Introduction\n",
        "This notebook contains practice tasks. Feel free to refer to the previous notebooks for help.\n",
        "\n",
        "* Conditional Statements\n",
        "* Loops\n",
        "* Functions\n",
        "\n"
      ],
      "metadata": {
        "id": "E4uBN-Rn1Y8Z"
      }
    },
    {
      "cell_type": "markdown",
      "source": [
        "✅ **Note: Make sure the AI assistant is turned off**\n",
        "\n",
        "*Tools> Settings> AI assistance> Hide generative AI features*"
      ],
      "metadata": {
        "id": "ThgHInymFWSk"
      }
    },
    {
      "cell_type": "markdown",
      "source": [
        "###Exercise: 1\n",
        "Create a function that tests whether a number is an integer and prints the findings.\n",
        "\n",
        "\n"
      ],
      "metadata": {
        "id": "eleUsb15tSAY"
      }
    },
    {
      "cell_type": "code",
      "source": [
        "# Exercise 1\n",
        "# Write your code here\n",
        "\n"
      ],
      "metadata": {
        "id": "rA8FlpkwvCh-"
      },
      "execution_count": null,
      "outputs": []
    },
    {
      "cell_type": "markdown",
      "source": [
        "###Exercise: 2\n",
        "Create a function that tests whether a number is a perfect number.\n",
        "\n",
        "In number theory, a perfect number is a positive integer that is equal to the sum of it's positive divisors excluding the number itself.\n",
        "\n",
        "For example, 6 = 1 + 2 + 3, which are the three divisors of 6.\n",
        "\n",
        "\n"
      ],
      "metadata": {
        "id": "jkbhyVtZu6zG"
      }
    },
    {
      "cell_type": "code",
      "source": [
        "# Exercise 2\n",
        "# Write your code here\n",
        "\n"
      ],
      "metadata": {
        "id": "iCxoptnVxylD"
      },
      "execution_count": null,
      "outputs": []
    },
    {
      "cell_type": "markdown",
      "source": [
        "##Exercise: 3\n",
        "Write code to print the Fibonacci sequence in the command window:\n",
        "\n",
        "**0**, **1**, 1, 2, 3, 5, 8, 13, 21, ......\n",
        "\n",
        "If you write an infinitely running loop, you can stop the execution using the same button you start it from."
      ],
      "metadata": {
        "id": "DWyAwA7smS6x"
      }
    },
    {
      "cell_type": "code",
      "source": [
        "# Exercise 3\n",
        "# Write your code here\n"
      ],
      "metadata": {
        "id": "JFQPguH0mbpH"
      },
      "execution_count": null,
      "outputs": []
    },
    {
      "cell_type": "markdown",
      "source": [
        "##Exercise: 4\n",
        "Write code that searches the Fibonacci sequence for a perfect number. You might be able to combine your answers to the previous two exercises."
      ],
      "metadata": {
        "id": "yjrG_e_Jg2uM"
      }
    },
    {
      "cell_type": "code",
      "source": [
        "# Exercise 4\n",
        "# Write your code here\n"
      ],
      "metadata": {
        "id": "YyMDYoHPg2uM"
      },
      "execution_count": null,
      "outputs": []
    },
    {
      "cell_type": "markdown",
      "source": [
        "##Exercise: 5\n",
        "Use a loop to countdown from 100 to 0. Can you print so that we see the following:\n",
        "\n",
        "```\n",
        "countdown = 100\n",
        "countdown = 099\n",
        "countdown = 098\n",
        "etc\n",
        "```"
      ],
      "metadata": {
        "id": "amNGj86Wg49D"
      }
    },
    {
      "cell_type": "code",
      "source": [
        "# Exercise 5\n",
        "# Write your code here\n"
      ],
      "metadata": {
        "id": "CYFRX9JVg49E"
      },
      "execution_count": null,
      "outputs": []
    },
    {
      "cell_type": "markdown",
      "source": [
        "##Exercise: 6\n",
        "A ball has been tracked after being projected from the coordinate system origin, with positions at various time-points given by X and Y. Use the X and Y coordinates to find the distance away from the origin at each time point."
      ],
      "metadata": {
        "id": "YMhkAr1E2lBe"
      }
    },
    {
      "cell_type": "code",
      "source": [
        "X=[a / 10.0 for a in range(0, 106, 13)]\n",
        "Y=[a / 100.0 for a in range(0, 212, 26)]\n",
        "\n",
        "# Exercise 6\n",
        "# Write your code here\n"
      ],
      "metadata": {
        "id": "UkBb4mxq2zVm"
      },
      "execution_count": null,
      "outputs": []
    },
    {
      "cell_type": "markdown",
      "source": [
        "Exercise: 7\n",
        "A ball is projected with a launch angle of 30 degrees and initial speed of 30 m/s. The ball is subject to constant air resistance acting directly against the direction of motion of 2.3N. The ball has mass 0.45kg Write code to calculate the position of the ball throughout the trajectory."
      ],
      "metadata": {
        "id": "e5hMTCsPP8xU"
      }
    },
    {
      "cell_type": "code",
      "source": [
        "# Exercise 7\n",
        "# Write your code here\n"
      ],
      "metadata": {
        "id": "Oyv_b-z_P9Xe"
      },
      "execution_count": null,
      "outputs": []
    }
  ]
}
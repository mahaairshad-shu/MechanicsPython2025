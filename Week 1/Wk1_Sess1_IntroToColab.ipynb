{
  "nbformat": 4,
  "nbformat_minor": 0,
  "metadata": {
    "colab": {
      "provenance": [],
      "include_colab_link": true
    },
    "kernelspec": {
      "name": "python3",
      "display_name": "Python 3"
    },
    "language_info": {
      "name": "python"
    }
  },
  "cells": [
    {
      "cell_type": "markdown",
      "metadata": {
        "id": "view-in-github",
        "colab_type": "text"
      },
      "source": [
        "<a href=\"https://colab.research.google.com/github/DrJohnKelley/MechanicsPython/blob/main/Wk1_Sess1_IntroToColab.ipynb\" target=\"_parent\"><img src=\"https://colab.research.google.com/assets/colab-badge.svg\" alt=\"Open In Colab\"/></a>"
      ]
    },
    {
      "cell_type": "markdown",
      "source": [
        "![SHU](https://drive.google.com/uc?export=view&id=1oauWClN3B2tjg1AeVHtfjAXZg13d9HXL)"
      ],
      "metadata": {
        "id": "ZT5kvXk0zqu9"
      }
    },
    {
      "cell_type": "markdown",
      "source": [
        "#**Modelling Mechanics of Sports Engineering**\n",
        "##Week 1\n",
        "###Session 1 - Introduction to Colab and Python"
      ],
      "metadata": {
        "id": "jPvJwRYrp8cm"
      }
    },
    {
      "cell_type": "markdown",
      "source": [
        "\n",
        "<a target=\"_blank\" href=\"https://github.com/DrJohnKelley/MechanicsPython\">\n",
        "  <img alt=\"Link to GitHub\" src=\"https://img.shields.io/badge/link_to-GitHub_repo-blue?logo=github&labelColor=black\">\n",
        "\n",
        "</a><a target=\"_blank\" href=\"https://shuspace.shu.ac.uk/ultra/courses/_350614_1/outline\">\n",
        "  <img alt=\"Access course folder\" src=\"https://img.shields.io/badge/access_course_files-Folder-yellow\">\n",
        "</a>"
      ],
      "metadata": {
        "id": "ck3L8P9_oCUR"
      }
    },
    {
      "cell_type": "markdown",
      "source": [
        "#Introduction\n",
        "This notebook gives an introduction to Colab environment. We'll learn:\n",
        "\n",
        "*   Colab basics (environment, creating/saving a new notebook)\n",
        "*   Markdown cell and Code cell\n",
        "* running your first code!\n",
        "\n"
      ],
      "metadata": {
        "id": "E4uBN-Rn1Y8Z"
      }
    },
    {
      "cell_type": "markdown",
      "source": [
        "#Colab basics\n",
        "<div class=\"markdown-google-sans\">\n",
        "  <h2>What is Colab?</h2>\n",
        "</div>\n",
        "\n",
        "Google Colab is a cloud-based platform that allows to run python code on browser with:\n",
        "- Zero configuration required\n",
        "- Free access to GPUs and TPUs\n",
        "- Easy to share and collaborate\n",
        "- Pre-installed libraries. Easy to install additional.\n"
      ],
      "metadata": {
        "id": "n5LH7dT13BBy"
      }
    },
    {
      "cell_type": "markdown",
      "source": [
        "#1. Setup"
      ],
      "metadata": {
        "id": "v61c36PWUmnz"
      }
    },
    {
      "cell_type": "markdown",
      "source": [
        "* Login to your Google account\n",
        "\n",
        "* Open https://colab.research.google.com and create 'New Notebook'\n",
        "\n",
        "\n",
        "![new_Notebook](https://drive.google.com/uc?export=view&id=1IfNC_trToYwa-0Si3B6eNcCPobSWUHh8)\n"
      ],
      "metadata": {
        "id": "NZ0phmW-V0Zu"
      }
    },
    {
      "cell_type": "markdown",
      "source": [
        "\n",
        "* Rename notebook on the top left corner\n",
        "\n",
        "![new_Notebook](https://drive.google.com/uc?export=view&id=1rtY2wpIxspFsz89Rky8hsantHMxD-YFS)\n"
      ],
      "metadata": {
        "id": "cEz732Vgb5Zr"
      }
    },
    {
      "cell_type": "markdown",
      "source": [
        "* Keep saving your changes! ***Ctrl+S***   all the way!"
      ],
      "metadata": {
        "id": "ivioVIAFb9ET"
      }
    },
    {
      "cell_type": "markdown",
      "source": [
        "* Access contents of the notebook from sidebar\n",
        "\n",
        "![contents](https://drive.google.com/uc?export=view&id=1em4-UnLSPFIBEnCnNmgHdZQ875Z2Nklp)"
      ],
      "metadata": {
        "id": "ww67zTgLtrGC"
      }
    },
    {
      "cell_type": "markdown",
      "source": [
        "* Upload files to your runtime session using the sidebar\n",
        "N.B: The files uploaded to a session only last for the specific session runtime.\n",
        "\n",
        "![upload](https://drive.google.com/uc?export=view&id=121S4YH6HsjEafFz0yRWBO3xQbvSsHQDv)\n",
        "\n"
      ],
      "metadata": {
        "id": "E6qpwIlPwh8d"
      }
    },
    {
      "cell_type": "markdown",
      "source": [
        "#2. Cells"
      ],
      "metadata": {
        "id": "K-B09js95Vzq"
      }
    },
    {
      "cell_type": "markdown",
      "source": [
        "You can create two kinds of cell. Markdown/Text and Code cells\n",
        "\n",
        "![cells](https://drive.google.com/uc?export=view&id=14TOYSVf_AkOzrtXm_j9yVectaGXQ_KQZ)\n",
        "\n",
        "This is a markdown cell. It allows you to write text that isn't run as a code.\n",
        "\n",
        "You can *stylize* **your** **`text`** and also add images\n",
        "\n",
        "\n",
        "![cells](https://drive.google.com/uc?export=view&id=1tU_Cu1RRHYaAQCz3ZsKDIbRlhRq3mWHi)\n",
        "\n"
      ],
      "metadata": {
        "id": "FTlGj8ie7njK"
      }
    },
    {
      "cell_type": "markdown",
      "source": [
        "#3. Coding"
      ],
      "metadata": {
        "id": "YZjpz9545krQ"
      }
    },
    {
      "cell_type": "code",
      "source": [
        "# This is a Code cell\n",
        "# You can run a cell individually by pressing Ctrl+Enter\n",
        "\n",
        "# Use '#' to add a comment in your code\n",
        "\n",
        "# Code\n",
        "a = 2+2\n",
        "a"
      ],
      "metadata": {
        "colab": {
          "base_uri": "https://localhost:8080/"
        },
        "id": "NcVMtYjk5byw",
        "outputId": "11c2ed8e-d7f4-479e-be86-45e0a98d4663"
      },
      "execution_count": null,
      "outputs": [
        {
          "output_type": "execute_result",
          "data": {
            "text/plain": [
              "4"
            ]
          },
          "metadata": {},
          "execution_count": 1
        }
      ]
    },
    {
      "cell_type": "markdown",
      "source": [
        "Main data types\n",
        "* String (text)\n",
        "* Integer (non-decimal numbers)\n",
        "* Float (floating-point numbers)\n",
        "* Boolean (true/false)\n",
        "\n",
        "Try running the following code by using Ctrl+Enter in the Code cell"
      ],
      "metadata": {
        "id": "dW26C23ylQsJ"
      }
    },
    {
      "cell_type": "code",
      "source": [
        "# String\n",
        "strVar = 'This is a string'\n",
        "print(strVar)\n",
        "\n",
        "# Integer\n",
        "intVar = 1\n",
        "print(intVar)\n",
        "\n",
        "# Float\n",
        "floatVar = 1.5\n",
        "print(floatVar)\n",
        "\n",
        "# Boolean\n",
        "boolVar = True\n",
        "print(boolVar)"
      ],
      "metadata": {
        "id": "fyx89hzA5r1o",
        "colab": {
          "base_uri": "https://localhost:8080/"
        },
        "outputId": "1af0181a-eb82-41ba-8c06-8bf3126143e0"
      },
      "execution_count": null,
      "outputs": [
        {
          "output_type": "stream",
          "name": "stdout",
          "text": [
            "This is a string\n",
            "1\n",
            "1.5\n",
            "True\n"
          ]
        }
      ]
    },
    {
      "cell_type": "markdown",
      "source": [
        "#4. Import Library\n",
        "\n",
        "Python libraries are collections of pre-written code components that provide a range of functionalities. These libraries encapsulate reusable code segments, such as functions and classes, allowing developers to incorporate them into their projects to accelerate development and improve code reliability.\n",
        "\n",
        "Following is an example of utlizing the pre-built python module 'math' that is widely used to utilize mathematical functions and constants.\n",
        "\n",
        "To add a module use 'import'"
      ],
      "metadata": {
        "id": "LjQeZmDyn1Pg"
      }
    },
    {
      "cell_type": "code",
      "source": [
        "import math\n",
        "\n",
        "pi = math.pi\n",
        "print(pi)"
      ],
      "metadata": {
        "colab": {
          "base_uri": "https://localhost:8080/"
        },
        "id": "U8B_LNFboAGL",
        "outputId": "9f6b8fcd-ceee-45a2-ca0a-5a57db3f1384"
      },
      "execution_count": null,
      "outputs": [
        {
          "output_type": "stream",
          "name": "stdout",
          "text": [
            "3.141592653589793\n"
          ]
        }
      ]
    },
    {
      "cell_type": "code",
      "source": [
        "!pip install numpy"
      ],
      "metadata": {
        "colab": {
          "base_uri": "https://localhost:8080/"
        },
        "id": "abgvITdxdgeg",
        "outputId": "f12014d1-832b-467a-a12f-44a43767490a"
      },
      "execution_count": null,
      "outputs": [
        {
          "output_type": "stream",
          "name": "stdout",
          "text": [
            "Requirement already satisfied: numpy in /usr/local/lib/python3.10/dist-packages (1.26.4)\n"
          ]
        }
      ]
    }
  ]
}
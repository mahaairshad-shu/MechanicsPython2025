{
  "nbformat": 4,
  "nbformat_minor": 0,
  "metadata": {
    "colab": {
      "provenance": [],
      "include_colab_link": true
    },
    "kernelspec": {
      "name": "python3",
      "display_name": "Python 3"
    },
    "language_info": {
      "name": "python"
    }
  },
  "cells": [
    {
      "cell_type": "markdown",
      "metadata": {
        "id": "view-in-github",
        "colab_type": "text"
      },
      "source": [
        "<a href=\"https://colab.research.google.com/github/mahaairshad-shu/MechanicsPython2025/blob/main/Week%201/Wk1_Homework_Exercises.ipynb\" target=\"_parent\"><img src=\"https://colab.research.google.com/assets/colab-badge.svg\" alt=\"Open In Colab\"/></a>"
      ]
    },
    {
      "cell_type": "markdown",
      "source": [
        "![SHU](https://drive.google.com/uc?export=view&id=1oauWClN3B2tjg1AeVHtfjAXZg13d9HXL)"
      ],
      "metadata": {
        "id": "ZT5kvXk0zqu9"
      }
    },
    {
      "cell_type": "markdown",
      "source": [
        "#**Modelling Mechanics of Sports Engineering**\n",
        "##Week 1\n",
        "###Homework - Practice tasks"
      ],
      "metadata": {
        "id": "jPvJwRYrp8cm"
      }
    },
    {
      "cell_type": "markdown",
      "source": [
        "\n",
        "<a target=\"_blank\" href=\"https://github.com/mahaairshad-shu/MechanicsPython2025\">\n",
        "  <img alt=\"Link to GitHub\" src=\"https://img.shields.io/badge/link_to-GitHub_repo-blue?logo=github&labelColor=black\">\n",
        "\n",
        "</a><a target=\"_blank\" href=\"https://shuspace.shu.ac.uk/ultra/courses/_355862_1/outline\">\n",
        "  <img alt=\"Access course folder\" src=\"https://img.shields.io/badge/access_course_files-Folder-yellow\">\n",
        "</a>"
      ],
      "metadata": {
        "id": "ck3L8P9_oCUR"
      }
    },
    {
      "cell_type": "markdown",
      "source": [
        "#Introduction\n",
        "This notebook contains practice tasks. Feel free to refer to the previous notebooks for help.\n",
        "\n",
        "* Variables and data types\n",
        "* Lists, indexing\n",
        "* NumPy\n",
        "\n"
      ],
      "metadata": {
        "id": "E4uBN-Rn1Y8Z"
      }
    },
    {
      "cell_type": "markdown",
      "source": [
        "✅ **Note: Make sure the AI assistant is turned off**\n",
        "\n",
        "*Tools> Settings> AI assistance> Hide generative AI features*"
      ],
      "metadata": {
        "id": "ThgHInymFWSk"
      }
    },
    {
      "cell_type": "markdown",
      "source": [
        "###Exercise: 4\n",
        "A ball bounces on a surface. The coefficient of restitution is 0.7. The ball has a vertical downward velocity of 27 m/s before the bounce. Write code that calculates the velocity after it has bounced 5 times (ignore air resistance). Can you round the calcuated velocity to 2 decimal places? NumPy has the \"round\" function.\n",
        "\n",
        "*Solution:*\n",
        "```\n",
        "Velocity: 4.54 m/s\n",
        "```\n",
        "\n"
      ],
      "metadata": {
        "id": "eleUsb15tSAY"
      }
    },
    {
      "cell_type": "code",
      "source": [
        "# Exercise 4\n",
        "# Write your code here\n"
      ],
      "metadata": {
        "id": "rA8FlpkwvCh-"
      },
      "execution_count": null,
      "outputs": []
    },
    {
      "cell_type": "markdown",
      "source": [
        "###Exercise: 5\n",
        "A ball is launched at an angle of 20 degrees and a speed of 30 m/s. If we ignore air resistance, write code to calculate how far will it travel? Make sure you code includes variables that can be edited quickly for a different velocity/angle combination.\n",
        "\n",
        "*Solution:*\n",
        "```\n",
        "58.97 m/s\n",
        "```\n"
      ],
      "metadata": {
        "id": "jkbhyVtZu6zG"
      }
    },
    {
      "cell_type": "code",
      "source": [
        "# Exercise 5\n",
        "# Write your code here\n",
        "\n"
      ],
      "metadata": {
        "id": "iCxoptnVxylD"
      },
      "execution_count": null,
      "outputs": []
    },
    {
      "cell_type": "markdown",
      "source": [
        "##Exercise: 6\n",
        "A ball is moving at a constant velocity of 40 m/s with an angle of -10 degrees (slightly downwards). A bat is moving at a constant velocity of 30 m/s an angle of 175 degrees (or 5 degrees upwards in the opposite direction to the ball). What is the closing velocity of the two implements?\n",
        "\n",
        "*Solution:*\n",
        "```\n",
        "closing speed of 69.93 m/s at an angle of -7.86 degrees\n",
        "```\n"
      ],
      "metadata": {
        "id": "DWyAwA7smS6x"
      }
    },
    {
      "cell_type": "code",
      "source": [
        "# Exercise 3\n",
        "# Write your code here\n"
      ],
      "metadata": {
        "id": "JFQPguH0mbpH"
      },
      "execution_count": null,
      "outputs": []
    }
  ]
}
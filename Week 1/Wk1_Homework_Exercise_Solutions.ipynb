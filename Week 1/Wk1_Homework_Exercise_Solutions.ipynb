{
  "nbformat": 4,
  "nbformat_minor": 0,
  "metadata": {
    "colab": {
      "provenance": [],
      "include_colab_link": true
    },
    "kernelspec": {
      "name": "python3",
      "display_name": "Python 3"
    },
    "language_info": {
      "name": "python"
    }
  },
  "cells": [
    {
      "cell_type": "markdown",
      "metadata": {
        "id": "view-in-github",
        "colab_type": "text"
      },
      "source": [
        "<a href=\"https://colab.research.google.com/github/mahaairshad-shu/MechanicsPython2025/blob/main/Week%201/Wk1_Homework_Exercise_Solutions.ipynb\" target=\"_parent\"><img src=\"https://colab.research.google.com/assets/colab-badge.svg\" alt=\"Open In Colab\"/></a>"
      ]
    },
    {
      "cell_type": "markdown",
      "source": [
        "![SHU](https://drive.google.com/uc?export=view&id=1oauWClN3B2tjg1AeVHtfjAXZg13d9HXL)"
      ],
      "metadata": {
        "id": "ZT5kvXk0zqu9"
      }
    },
    {
      "cell_type": "markdown",
      "source": [
        "#**Modelling Mechanics of Sports Engineering**\n",
        "##Week 1\n",
        "###Homework Solutions"
      ],
      "metadata": {
        "id": "jPvJwRYrp8cm"
      }
    },
    {
      "cell_type": "markdown",
      "source": [
        "\n",
        "<a target=\"_blank\" href=\"https://github.com/mahaairshad-shu/MechanicsPython2025\">\n",
        "  <img alt=\"Link to GitHub\" src=\"https://img.shields.io/badge/link_to-GitHub_repo-blue?logo=github&labelColor=black\">\n",
        "\n",
        "</a><a target=\"_blank\" href=\"https://shuspace.shu.ac.uk/ultra/courses/_355862_1/outline\">\n",
        "  <img alt=\"Access course folder\" src=\"https://img.shields.io/badge/access_course_files-Folder-yellow\">\n",
        "</a>"
      ],
      "metadata": {
        "id": "ck3L8P9_oCUR"
      }
    },
    {
      "cell_type": "markdown",
      "source": [
        "#Introduction\n",
        "###This notebook contains solutions for the practice tasks and exercises.\n",
        "\n",
        "\n"
      ],
      "metadata": {
        "id": "E4uBN-Rn1Y8Z"
      }
    },
    {
      "cell_type": "markdown",
      "source": [
        "###Exercise: 4\n",
        "A ball bounces on a surface. The coefficient of restitution is 0.7. The ball has a vertical downward velocity of 27 m/s before the bounce. Write code that calculates the velocity after it has bounced 5 times (ignore air resistance). Can you round the calcuated velocity to 2 decimal places? NumPy has the \"round\" function.\n",
        "\n",
        "*Solution:*\n",
        "```\n",
        "Velocity: 4.54 m/s\n",
        "```\n",
        "\n"
      ],
      "metadata": {
        "id": "eleUsb15tSAY"
      }
    },
    {
      "cell_type": "code",
      "source": [
        "# Exercise 4\n",
        "# Write your code here\n",
        "u=27\n",
        "cor=0.7\n",
        "\n",
        "v=u*cor**5\n",
        "\n",
        "v = round(v,2)\n",
        "print(str(v) + \" m/s\")"
      ],
      "metadata": {
        "id": "rA8FlpkwvCh-",
        "colab": {
          "base_uri": "https://localhost:8080/"
        },
        "outputId": "719a4732-3160-4338-89d6-a2796b3a0896"
      },
      "execution_count": null,
      "outputs": [
        {
          "output_type": "stream",
          "name": "stdout",
          "text": [
            "4.54 m/s\n"
          ]
        }
      ]
    },
    {
      "cell_type": "markdown",
      "source": [
        "###Exercise: 5\n",
        "A ball is launched at an angle of 20 degrees and a speed of 30 m/s. If we ignore air resistance, write code to calculate how far will it travel? Make sure you code includes variables that can be edited quickly for a different velocity/angle combination.\n",
        "\n",
        "*Solution:*\n",
        "```\n",
        "58.97 m/s\n",
        "```\n"
      ],
      "metadata": {
        "id": "jkbhyVtZu6zG"
      }
    },
    {
      "cell_type": "code",
      "source": [
        "# Exercise 5\n",
        "# Write your code here\n",
        "\n",
        "import math as m\n",
        "\n",
        "v=30\n",
        "A=m.radians(20);\n",
        "g=9.81;\n",
        "\n",
        "horizontalSpeed = v * m.cos(A)\n",
        "vertSpeed = v * m.sin(A)\n",
        "\n",
        "timeToApex=vertSpeed / g\n",
        "\n",
        "timeToImpact = 2 * timeToApex\n",
        "\n",
        "ditanceToImpact = horizontalSpeed * timeToImpact\n",
        "\n",
        "ditanceToImpact=round(ditanceToImpact,2)\n",
        "\n",
        "print(str(ditanceToImpact) + \" m/s\")\n"
      ],
      "metadata": {
        "id": "iCxoptnVxylD",
        "colab": {
          "base_uri": "https://localhost:8080/"
        },
        "outputId": "2b36c396-e037-4349-e8cd-d1cdd8f5f593"
      },
      "execution_count": null,
      "outputs": [
        {
          "output_type": "stream",
          "name": "stdout",
          "text": [
            "58.97 m/s\n"
          ]
        }
      ]
    },
    {
      "cell_type": "markdown",
      "source": [
        "##Exercise: 6\n",
        "A ball is moving at a constant velocity of 40 m/s with an angle of -10 degrees (slightly downwards). A bat is moving at a constant velocity of 30 m/s an angle of 175 degrees (or 5 degrees upwards in the opposite direction to the ball). What is the closing velocity of the two implements?\n",
        "\n",
        "*Solution:*\n",
        "```\n",
        "closing speed of 69.93 m/s at an angle of -7.86 degrees\n",
        "```\n"
      ],
      "metadata": {
        "id": "DWyAwA7smS6x"
      }
    },
    {
      "cell_type": "code",
      "source": [
        "# Exercise 3\n",
        "# Write your code here\n",
        "import math as m\n",
        "\n",
        "# we will denote up as positive for vertical velocity and right, or zero degrees,\n",
        "# as positive for horizontal velocity. Angles between 0 and 180 degrees will have\n",
        "# a positive vertical velocity. Angles between -180 and 0 degrees will have\n",
        "# negative vertical velociy. Angles between -90 and 90 degrees will have a positive\n",
        "# horizontal velocity etc.\n",
        "\n",
        "ballVel = 40\n",
        "ballAng = m.radians(-10)\n",
        "\n",
        "ballHor = ballVel * m.cos(ballAng) #positive\n",
        "ballVert = ballVel * m.sin(ballAng) #negative\n",
        "\n",
        "batVel = 30\n",
        "batAng = m.radians(175)\n",
        "\n",
        "batHor = batVel * m.cos(batAng) #negative\n",
        "batVert = batVel * m.sin(batAng) #positvie\n",
        "\n",
        "# we will calculate as if the bat is stationary. i.e. subtract bat velocity.\n",
        "closingHor = ballHor - batHor\n",
        "closingVert = ballVert - batVert\n",
        "\n",
        "closingVel = (closingHor**2+closingVert**2)**0.5\n",
        "closingAng = m.degrees(m.atan(closingVert/closingHor))\n",
        "\n",
        "closingVel=round(closingVel,2)\n",
        "closingAng=round(closingAng,2)\n",
        "\n",
        "print(\"closing speed of \" + str(closingVel) + \" m/s at an angle of \" + str(closingAng) + \" degrees\")"
      ],
      "metadata": {
        "id": "JFQPguH0mbpH",
        "colab": {
          "base_uri": "https://localhost:8080/"
        },
        "outputId": "12672c7e-233c-44d6-94bf-58de638c475d"
      },
      "execution_count": null,
      "outputs": [
        {
          "output_type": "stream",
          "name": "stdout",
          "text": [
            "closing speed of 69.93 m/s at an angle of -7.86 degrees\n"
          ]
        }
      ]
    }
  ]
}